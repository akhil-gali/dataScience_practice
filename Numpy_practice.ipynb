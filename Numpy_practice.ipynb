{
  "nbformat": 4,
  "nbformat_minor": 0,
  "metadata": {
    "colab": {
      "name": "Numpy_practice.ipynb",
      "provenance": [],
      "collapsed_sections": [],
      "authorship_tag": "ABX9TyOZdM4/UBSFVAlzSL360DY/",
      "include_colab_link": true
    },
    "kernelspec": {
      "name": "python3",
      "display_name": "Python 3"
    },
    "language_info": {
      "name": "python"
    }
  },
  "cells": [
    {
      "cell_type": "markdown",
      "metadata": {
        "id": "view-in-github",
        "colab_type": "text"
      },
      "source": [
        "<a href=\"https://colab.research.google.com/github/akhil-gali/dataScience_practice/blob/main/Numpy_practice.ipynb\" target=\"_parent\"><img src=\"https://colab.research.google.com/assets/colab-badge.svg\" alt=\"Open In Colab\"/></a>"
      ]
    },
    {
      "cell_type": "code",
      "metadata": {
        "colab": {
          "base_uri": "https://localhost:8080/"
        },
        "id": "Ojem_9QvVrft",
        "outputId": "1b287a47-48e8-44f5-f1fa-faf94c7883c7"
      },
      "source": [
        "!pip install numpy"
      ],
      "execution_count": 1,
      "outputs": [
        {
          "output_type": "stream",
          "name": "stdout",
          "text": [
            "Requirement already satisfied: numpy in /usr/local/lib/python3.7/dist-packages (1.19.5)\n"
          ]
        }
      ]
    },
    {
      "cell_type": "markdown",
      "metadata": {
        "id": "d2yQz3TKXh2z"
      },
      "source": [
        "#Create one dimensional Array in Numpy"
      ]
    },
    {
      "cell_type": "code",
      "metadata": {
        "id": "Byt83FDlV0KL"
      },
      "source": [
        "import numpy as np   #inporting numpy Library"
      ],
      "execution_count": 2,
      "outputs": []
    },
    {
      "cell_type": "code",
      "metadata": {
        "colab": {
          "base_uri": "https://localhost:8080/"
        },
        "id": "LCvNRCnsWB--",
        "outputId": "5c2451a8-5d02-4733-e091-6d23b6f149ef"
      },
      "source": [
        "my_list = [1,2,3]\n",
        "n = np.array(my_list)\n",
        "n"
      ],
      "execution_count": 3,
      "outputs": [
        {
          "output_type": "execute_result",
          "data": {
            "text/plain": [
              "array([1, 2, 3])"
            ]
          },
          "metadata": {},
          "execution_count": 3
        }
      ]
    },
    {
      "cell_type": "code",
      "metadata": {
        "colab": {
          "base_uri": "https://localhost:8080/"
        },
        "id": "qRK6zgtnXREy",
        "outputId": "6222ec0c-972e-4054-de2b-223e6fbaa04d"
      },
      "source": [
        "type(my_list)   # type method gives the type of given variable"
      ],
      "execution_count": 4,
      "outputs": [
        {
          "output_type": "execute_result",
          "data": {
            "text/plain": [
              "list"
            ]
          },
          "metadata": {},
          "execution_count": 4
        }
      ]
    },
    {
      "cell_type": "code",
      "metadata": {
        "colab": {
          "base_uri": "https://localhost:8080/"
        },
        "id": "HGUMftq_W1eE",
        "outputId": "4f18f024-762e-43c8-efd3-65628eab8ab6"
      },
      "source": [
        "type(n)    # type method gives the type of given variable"
      ],
      "execution_count": 5,
      "outputs": [
        {
          "output_type": "execute_result",
          "data": {
            "text/plain": [
              "numpy.ndarray"
            ]
          },
          "metadata": {},
          "execution_count": 5
        }
      ]
    },
    {
      "cell_type": "markdown",
      "metadata": {
        "id": "Hjgg1K23X3qo"
      },
      "source": [
        "# Creating Multidimesional Array"
      ]
    },
    {
      "cell_type": "code",
      "metadata": {
        "colab": {
          "base_uri": "https://localhost:8080/"
        },
        "id": "4WTJc0bsXxyR",
        "outputId": "e9037876-2b74-4c8d-8bca-5eecb718f82b"
      },
      "source": [
        "my_list2 = [[1,2,3],[4,5,6],[7,8,9]]\n",
        "md = np.array(my_list2)\n",
        "md"
      ],
      "execution_count": 6,
      "outputs": [
        {
          "output_type": "execute_result",
          "data": {
            "text/plain": [
              "array([[1, 2, 3],\n",
              "       [4, 5, 6],\n",
              "       [7, 8, 9]])"
            ]
          },
          "metadata": {},
          "execution_count": 6
        }
      ]
    },
    {
      "cell_type": "code",
      "metadata": {
        "colab": {
          "base_uri": "https://localhost:8080/"
        },
        "id": "lPgUNhI7YUQH",
        "outputId": "3fb44cec-cc27-4386-9046-5c49fb5fd12b"
      },
      "source": [
        "print(md)"
      ],
      "execution_count": 7,
      "outputs": [
        {
          "output_type": "stream",
          "name": "stdout",
          "text": [
            "[[1 2 3]\n",
            " [4 5 6]\n",
            " [7 8 9]]\n"
          ]
        }
      ]
    },
    {
      "cell_type": "code",
      "metadata": {
        "colab": {
          "base_uri": "https://localhost:8080/"
        },
        "id": "TONqgciCYXD0",
        "outputId": "a824b247-5157-4a63-b916-1ac674c22a19"
      },
      "source": [
        "type(md)  # type method gives the type of given variable"
      ],
      "execution_count": 8,
      "outputs": [
        {
          "output_type": "execute_result",
          "data": {
            "text/plain": [
              "numpy.ndarray"
            ]
          },
          "metadata": {},
          "execution_count": 8
        }
      ]
    },
    {
      "cell_type": "code",
      "metadata": {
        "colab": {
          "base_uri": "https://localhost:8080/"
        },
        "id": "wXlylBV8YaQp",
        "outputId": "ea274928-0795-432c-e73f-5318f1b4e52d"
      },
      "source": [
        "md.shape # Shape method is used to return the shape of the array.."
      ],
      "execution_count": 9,
      "outputs": [
        {
          "output_type": "execute_result",
          "data": {
            "text/plain": [
              "(3, 3)"
            ]
          },
          "metadata": {},
          "execution_count": 9
        }
      ]
    },
    {
      "cell_type": "markdown",
      "metadata": {
        "id": "wIbIQpfoajOJ"
      },
      "source": [
        "#Generating Evenly Spaced values within the Given Limit"
      ]
    },
    {
      "cell_type": "code",
      "metadata": {
        "colab": {
          "base_uri": "https://localhost:8080/"
        },
        "id": "3sHx3caWYjVZ",
        "outputId": "a05c6ca2-d591-4d2a-df11-bc05665914ff"
      },
      "source": [
        "np.arange(0,10)  # gives array of numbers (int type) start from \"0\" till \"9\" excluding the last digit"
      ],
      "execution_count": 10,
      "outputs": [
        {
          "output_type": "execute_result",
          "data": {
            "text/plain": [
              "array([0, 1, 2, 3, 4, 5, 6, 7, 8, 9])"
            ]
          },
          "metadata": {},
          "execution_count": 10
        }
      ]
    },
    {
      "cell_type": "code",
      "metadata": {
        "colab": {
          "base_uri": "https://localhost:8080/"
        },
        "id": "xhQIz9SoaGqi",
        "outputId": "cb2ec23f-5590-4e5f-f156-2887dc837bd9"
      },
      "source": [
        "np.arange(20)  #if start number doesn't mention, Np will generate starting from "
      ],
      "execution_count": 11,
      "outputs": [
        {
          "output_type": "execute_result",
          "data": {
            "text/plain": [
              "array([ 0,  1,  2,  3,  4,  5,  6,  7,  8,  9, 10, 11, 12, 13, 14, 15, 16,\n",
              "       17, 18, 19])"
            ]
          },
          "metadata": {},
          "execution_count": 11
        }
      ]
    },
    {
      "cell_type": "code",
      "metadata": {
        "colab": {
          "base_uri": "https://localhost:8080/"
        },
        "id": "f9ktfJUTabDX",
        "outputId": "d35121cd-8f10-4856-c7f2-23bf6a9e2fae"
      },
      "source": [
        "np.arange(0,20,3) #will generate numbers from \"0\" to \"20\" with interval of \"3\""
      ],
      "execution_count": 12,
      "outputs": [
        {
          "output_type": "execute_result",
          "data": {
            "text/plain": [
              "array([ 0,  3,  6,  9, 12, 15, 18])"
            ]
          },
          "metadata": {},
          "execution_count": 12
        }
      ]
    },
    {
      "cell_type": "code",
      "metadata": {
        "colab": {
          "base_uri": "https://localhost:8080/"
        },
        "id": "7wiYHpmobM44",
        "outputId": "b84f7706-3c4d-44dd-aaa6-03a16de5e493"
      },
      "source": [
        "for i in range(1,11,2):\n",
        "  print(i)                    #printing the Number"
      ],
      "execution_count": 13,
      "outputs": [
        {
          "output_type": "stream",
          "name": "stdout",
          "text": [
            "1\n",
            "3\n",
            "5\n",
            "7\n",
            "9\n"
          ]
        }
      ]
    },
    {
      "cell_type": "code",
      "metadata": {
        "id": "9gVOSYheb7E6",
        "colab": {
          "base_uri": "https://localhost:8080/"
        },
        "outputId": "45e294de-cd67-46fd-f3d0-fb5891f0ef6e"
      },
      "source": [
        "for i in np.arange(1,12,2):\n",
        "  new_array = np.array(np.arange(i,12,2))\n",
        "  print(new_array)        #Printing the Array"
      ],
      "execution_count": 14,
      "outputs": [
        {
          "output_type": "stream",
          "name": "stdout",
          "text": [
            "[ 1  3  5  7  9 11]\n",
            "[ 3  5  7  9 11]\n",
            "[ 5  7  9 11]\n",
            "[ 7  9 11]\n",
            "[ 9 11]\n",
            "[11]\n"
          ]
        }
      ]
    },
    {
      "cell_type": "code",
      "metadata": {
        "id": "BSTqI91AcIN6",
        "colab": {
          "base_uri": "https://localhost:8080/"
        },
        "outputId": "554992f8-5a3e-49ac-b120-88a4527bab84"
      },
      "source": [
        "zero_array = np.zeros((5,6))     #for writing Zero array and shape we use double braces like((5,6)) in the example\n",
        "print(zero_array)                #for 1 dimensional Array we can write like np.zeros(100) which will return 100 zeros "
      ],
      "execution_count": 15,
      "outputs": [
        {
          "output_type": "stream",
          "name": "stdout",
          "text": [
            "[[0. 0. 0. 0. 0. 0.]\n",
            " [0. 0. 0. 0. 0. 0.]\n",
            " [0. 0. 0. 0. 0. 0.]\n",
            " [0. 0. 0. 0. 0. 0.]\n",
            " [0. 0. 0. 0. 0. 0.]]\n"
          ]
        }
      ]
    },
    {
      "cell_type": "code",
      "metadata": {
        "id": "XU0f2e780Z0p",
        "colab": {
          "base_uri": "https://localhost:8080/"
        },
        "outputId": "63a25b3b-05d8-4716-a57a-7d67826637e6"
      },
      "source": [
        "zero_array.reshape(6,5)             #for reshaping no need of Double braces"
      ],
      "execution_count": 16,
      "outputs": [
        {
          "output_type": "execute_result",
          "data": {
            "text/plain": [
              "array([[0., 0., 0., 0., 0.],\n",
              "       [0., 0., 0., 0., 0.],\n",
              "       [0., 0., 0., 0., 0.],\n",
              "       [0., 0., 0., 0., 0.],\n",
              "       [0., 0., 0., 0., 0.],\n",
              "       [0., 0., 0., 0., 0.]])"
            ]
          },
          "metadata": {},
          "execution_count": 16
        }
      ]
    },
    {
      "cell_type": "code",
      "metadata": {
        "colab": {
          "base_uri": "https://localhost:8080/"
        },
        "id": "XdNeLU3nc0q0",
        "outputId": "e7584b30-8350-4ff5-eb59-233c2ad1352e"
      },
      "source": [
        "zero_array                #the reshape function doesn't change the actual number of rows and columns"
      ],
      "execution_count": 17,
      "outputs": [
        {
          "output_type": "execute_result",
          "data": {
            "text/plain": [
              "array([[0., 0., 0., 0., 0., 0.],\n",
              "       [0., 0., 0., 0., 0., 0.],\n",
              "       [0., 0., 0., 0., 0., 0.],\n",
              "       [0., 0., 0., 0., 0., 0.],\n",
              "       [0., 0., 0., 0., 0., 0.]])"
            ]
          },
          "metadata": {},
          "execution_count": 17
        }
      ]
    },
    {
      "cell_type": "code",
      "metadata": {
        "colab": {
          "base_uri": "https://localhost:8080/"
        },
        "id": "0NG0DYzLc3I-",
        "outputId": "8334914a-b3eb-48e6-fc3a-5b47cb1604b4"
      },
      "source": [
        "ones_array = np.ones((4,8))    #same as zeros\n",
        "ones_array"
      ],
      "execution_count": 18,
      "outputs": [
        {
          "output_type": "execute_result",
          "data": {
            "text/plain": [
              "array([[1., 1., 1., 1., 1., 1., 1., 1.],\n",
              "       [1., 1., 1., 1., 1., 1., 1., 1.],\n",
              "       [1., 1., 1., 1., 1., 1., 1., 1.],\n",
              "       [1., 1., 1., 1., 1., 1., 1., 1.]])"
            ]
          },
          "metadata": {},
          "execution_count": 18
        }
      ]
    },
    {
      "cell_type": "code",
      "metadata": {
        "colab": {
          "base_uri": "https://localhost:8080/"
        },
        "id": "46KtKiMxe6ef",
        "outputId": "9ef577fa-d11b-4784-a640-09c030dfbcf7"
      },
      "source": [
        "ones_array.reshape(8,4)   #same as zeros"
      ],
      "execution_count": 19,
      "outputs": [
        {
          "output_type": "execute_result",
          "data": {
            "text/plain": [
              "array([[1., 1., 1., 1.],\n",
              "       [1., 1., 1., 1.],\n",
              "       [1., 1., 1., 1.],\n",
              "       [1., 1., 1., 1.],\n",
              "       [1., 1., 1., 1.],\n",
              "       [1., 1., 1., 1.],\n",
              "       [1., 1., 1., 1.],\n",
              "       [1., 1., 1., 1.]])"
            ]
          },
          "metadata": {},
          "execution_count": 19
        }
      ]
    },
    {
      "cell_type": "code",
      "metadata": {
        "colab": {
          "base_uri": "https://localhost:8080/"
        },
        "id": "B2pJYq-7fCT_",
        "outputId": "ede8cf54-efc9-4e6b-a871-333590efb8fc"
      },
      "source": [
        "ones_array            #columns and rows doesn't change as zeros function"
      ],
      "execution_count": 20,
      "outputs": [
        {
          "output_type": "execute_result",
          "data": {
            "text/plain": [
              "array([[1., 1., 1., 1., 1., 1., 1., 1.],\n",
              "       [1., 1., 1., 1., 1., 1., 1., 1.],\n",
              "       [1., 1., 1., 1., 1., 1., 1., 1.],\n",
              "       [1., 1., 1., 1., 1., 1., 1., 1.]])"
            ]
          },
          "metadata": {},
          "execution_count": 20
        }
      ]
    },
    {
      "cell_type": "code",
      "metadata": {
        "colab": {
          "base_uri": "https://localhost:8080/"
        },
        "id": "2kRMbjfDfRoS",
        "outputId": "86a02862-88d3-4889-c34c-30192ddf0a90"
      },
      "source": [
        "identity_array = np.eye(10)   #will give \n",
        "identity_array"
      ],
      "execution_count": 21,
      "outputs": [
        {
          "output_type": "execute_result",
          "data": {
            "text/plain": [
              "array([[1., 0., 0., 0., 0., 0., 0., 0., 0., 0.],\n",
              "       [0., 1., 0., 0., 0., 0., 0., 0., 0., 0.],\n",
              "       [0., 0., 1., 0., 0., 0., 0., 0., 0., 0.],\n",
              "       [0., 0., 0., 1., 0., 0., 0., 0., 0., 0.],\n",
              "       [0., 0., 0., 0., 1., 0., 0., 0., 0., 0.],\n",
              "       [0., 0., 0., 0., 0., 1., 0., 0., 0., 0.],\n",
              "       [0., 0., 0., 0., 0., 0., 1., 0., 0., 0.],\n",
              "       [0., 0., 0., 0., 0., 0., 0., 1., 0., 0.],\n",
              "       [0., 0., 0., 0., 0., 0., 0., 0., 1., 0.],\n",
              "       [0., 0., 0., 0., 0., 0., 0., 0., 0., 1.]])"
            ]
          },
          "metadata": {},
          "execution_count": 21
        }
      ]
    },
    {
      "cell_type": "code",
      "metadata": {
        "colab": {
          "base_uri": "https://localhost:8080/"
        },
        "id": "yTnZIDwjflHr",
        "outputId": "e6acce14-8e65-40cf-e958-e4b4243d35b2"
      },
      "source": [
        "O= np.linspace(0,50,8) #Linspace function returns 3rd parameter(6) evenly spaced float Values start from 1st parameter to 2nd parameter\n",
        "O                      # linspace includes first and last values."
      ],
      "execution_count": 22,
      "outputs": [
        {
          "output_type": "execute_result",
          "data": {
            "text/plain": [
              "array([ 0.        ,  7.14285714, 14.28571429, 21.42857143, 28.57142857,\n",
              "       35.71428571, 42.85714286, 50.        ])"
            ]
          },
          "metadata": {},
          "execution_count": 22
        }
      ]
    },
    {
      "cell_type": "code",
      "metadata": {
        "colab": {
          "base_uri": "https://localhost:8080/"
        },
        "id": "plMapVZv1Fpp",
        "outputId": "eb287614-9172-428e-f61f-403238783cd7"
      },
      "source": [
        "len(O)"
      ],
      "execution_count": 23,
      "outputs": [
        {
          "output_type": "execute_result",
          "data": {
            "text/plain": [
              "8"
            ]
          },
          "metadata": {},
          "execution_count": 23
        }
      ]
    },
    {
      "cell_type": "code",
      "metadata": {
        "colab": {
          "base_uri": "https://localhost:8080/"
        },
        "id": "_eUv-teP2LtE",
        "outputId": "f8410572-cd22-4a83-8398-1d417b5d8bb6"
      },
      "source": [
        "O.resize(4,2) #resize function will Change the shape of original array..Unlike reshape Function\n",
        "O"
      ],
      "execution_count": 24,
      "outputs": [
        {
          "output_type": "execute_result",
          "data": {
            "text/plain": [
              "array([[ 0.        ,  7.14285714],\n",
              "       [14.28571429, 21.42857143],\n",
              "       [28.57142857, 35.71428571],\n",
              "       [42.85714286, 50.        ]])"
            ]
          },
          "metadata": {},
          "execution_count": 24
        }
      ]
    },
    {
      "cell_type": "code",
      "metadata": {
        "colab": {
          "base_uri": "https://localhost:8080/"
        },
        "id": "_iXyi3ip2Tjp",
        "outputId": "258e9c9b-fd15-4e3b-94b4-51e71cf7c99d"
      },
      "source": [
        "O"
      ],
      "execution_count": 25,
      "outputs": [
        {
          "output_type": "execute_result",
          "data": {
            "text/plain": [
              "array([[ 0.        ,  7.14285714],\n",
              "       [14.28571429, 21.42857143],\n",
              "       [28.57142857, 35.71428571],\n",
              "       [42.85714286, 50.        ]])"
            ]
          },
          "metadata": {},
          "execution_count": 25
        }
      ]
    },
    {
      "cell_type": "markdown",
      "metadata": {
        "id": "-sMT5rUN4MLg"
      },
      "source": [
        "# Generating Random Values"
      ]
    },
    {
      "cell_type": "code",
      "metadata": {
        "colab": {
          "base_uri": "https://localhost:8080/"
        },
        "id": "NXmKkkOP3cJA",
        "outputId": "822113c8-87ae-404a-ba56-690948ad805a"
      },
      "source": [
        "rand_function =np.random.rand(5,5) #will generate random values in unifrom Distribution between [0,1] in given shape and generate new numbers for each time we run\n",
        "rand_function "
      ],
      "execution_count": 26,
      "outputs": [
        {
          "output_type": "execute_result",
          "data": {
            "text/plain": [
              "array([[0.79875321, 0.33382608, 0.87735628, 0.13450103, 0.8771614 ],\n",
              "       [0.4260056 , 0.18310279, 0.91175819, 0.79281785, 0.31715658],\n",
              "       [0.77531989, 0.1927848 , 0.39013813, 0.26665369, 0.98226376],\n",
              "       [0.54270251, 0.28646396, 0.96958607, 0.11017908, 0.54029679],\n",
              "       [0.72134233, 0.01192978, 0.81383925, 0.11425186, 0.95534135]])"
            ]
          },
          "metadata": {},
          "execution_count": 26
        }
      ]
    },
    {
      "cell_type": "code",
      "metadata": {
        "colab": {
          "base_uri": "https://localhost:8080/"
        },
        "id": "twMmYb5N4zGu",
        "outputId": "ef55f04a-8283-44cd-9e74-3a74cde12000"
      },
      "source": [
        "a=np.random.randn(5,3) # will generate random values in Standard normal distribution\n",
        "a                      # it also generates new values every time we run"
      ],
      "execution_count": 27,
      "outputs": [
        {
          "output_type": "execute_result",
          "data": {
            "text/plain": [
              "array([[-0.440152  , -0.20910341, -1.51199507],\n",
              "       [ 0.13134221,  1.07922869,  0.84289985],\n",
              "       [ 1.075296  ,  1.2523916 , -0.65719618],\n",
              "       [ 1.03996287, -0.23000476,  2.06578906],\n",
              "       [-0.83840579,  0.51722695, -0.81429548]])"
            ]
          },
          "metadata": {},
          "execution_count": 27
        }
      ]
    },
    {
      "cell_type": "code",
      "metadata": {
        "colab": {
          "base_uri": "https://localhost:8080/"
        },
        "id": "lc9dDWZ7OYxP",
        "outputId": "2cd63bb0-4bac-4dc4-cbc3-d78ca93e90c6"
      },
      "source": [
        "#Generating 15 random numbers between 10 and 60\n",
        "randint_function=np.random.randint(6,25,15)  #generate 15 random numbers with repetion allowed and including lower limit excluding Higher limit\n",
        "randint_function"
      ],
      "execution_count": 28,
      "outputs": [
        {
          "output_type": "execute_result",
          "data": {
            "text/plain": [
              "array([ 6, 11, 17, 21, 20,  9, 19,  8, 17, 16,  9, 12, 17,  6, 17])"
            ]
          },
          "metadata": {},
          "execution_count": 28
        }
      ]
    },
    {
      "cell_type": "code",
      "metadata": {
        "colab": {
          "base_uri": "https://localhost:8080/"
        },
        "id": "zzPjt2KVQvIq",
        "outputId": "f0b4059c-3582-47c1-f1b1-c9165b095120"
      },
      "source": [
        "randint_function.reshape(5,3)"
      ],
      "execution_count": 29,
      "outputs": [
        {
          "output_type": "execute_result",
          "data": {
            "text/plain": [
              "array([[ 6, 11, 17],\n",
              "       [21, 20,  9],\n",
              "       [19,  8, 17],\n",
              "       [16,  9, 12],\n",
              "       [17,  6, 17]])"
            ]
          },
          "metadata": {},
          "execution_count": 29
        }
      ]
    },
    {
      "cell_type": "code",
      "metadata": {
        "colab": {
          "base_uri": "https://localhost:8080/"
        },
        "id": "egT1sCInR8fc",
        "outputId": "e8abd1af-b52d-475a-a366-b658f495bfb8"
      },
      "source": [
        "randint_function_1 = np.random.randint(6,25,(5,3))  # we can directly define the shape as 3rd parameter\n",
        "randint_function_1"
      ],
      "execution_count": 30,
      "outputs": [
        {
          "output_type": "execute_result",
          "data": {
            "text/plain": [
              "array([[14, 18, 22],\n",
              "       [23,  7,  6],\n",
              "       [13, 18, 18],\n",
              "       [16, 19, 12],\n",
              "       [15, 20, 16]])"
            ]
          },
          "metadata": {},
          "execution_count": 30
        }
      ]
    },
    {
      "cell_type": "markdown",
      "metadata": {
        "id": "HQr_YgodWA-r"
      },
      "source": [
        "# Indexing and Slicing"
      ]
    },
    {
      "cell_type": "code",
      "metadata": {
        "colab": {
          "base_uri": "https://localhost:8080/"
        },
        "id": "gxMgjCbRSKfm",
        "outputId": "be7e22f0-e9d4-4580-d204-8a7c8821d571"
      },
      "source": [
        "p = np.random.randint(0,15,8)\n",
        "p"
      ],
      "execution_count": 31,
      "outputs": [
        {
          "output_type": "execute_result",
          "data": {
            "text/plain": [
              "array([ 8, 10,  3, 10, 11,  8,  6,  9])"
            ]
          },
          "metadata": {},
          "execution_count": 31
        }
      ]
    },
    {
      "cell_type": "code",
      "metadata": {
        "colab": {
          "base_uri": "https://localhost:8080/"
        },
        "id": "8mNYcqIkWSCC",
        "outputId": "e9a61219-5acd-4b96-bd45-1904558499b2"
      },
      "source": [
        "p[0] #will return value at zero index"
      ],
      "execution_count": 32,
      "outputs": [
        {
          "output_type": "execute_result",
          "data": {
            "text/plain": [
              "8"
            ]
          },
          "metadata": {},
          "execution_count": 32
        }
      ]
    },
    {
      "cell_type": "code",
      "metadata": {
        "colab": {
          "base_uri": "https://localhost:8080/"
        },
        "id": "OBopeWZwWZOc",
        "outputId": "733bc0c8-8a7f-483d-f091-70baa8732591"
      },
      "source": [
        "p[-3] # will return the value which is in third place from Last. negative indexing starts from -1,-2,-3,-4...."
      ],
      "execution_count": 33,
      "outputs": [
        {
          "output_type": "execute_result",
          "data": {
            "text/plain": [
              "8"
            ]
          },
          "metadata": {},
          "execution_count": 33
        }
      ]
    },
    {
      "cell_type": "code",
      "metadata": {
        "colab": {
          "base_uri": "https://localhost:8080/"
        },
        "id": "0GUTVZsGWuIe",
        "outputId": "d2d20830-7806-4189-e422-65883a59983c"
      },
      "source": [
        "p[2:8] #will return set of values start from 2 index till 8 and doesnot include 8 index value"
      ],
      "execution_count": 34,
      "outputs": [
        {
          "output_type": "execute_result",
          "data": {
            "text/plain": [
              "array([ 3, 10, 11,  8,  6,  9])"
            ]
          },
          "metadata": {},
          "execution_count": 34
        }
      ]
    },
    {
      "cell_type": "code",
      "metadata": {
        "colab": {
          "base_uri": "https://localhost:8080/"
        },
        "id": "q0oYp7OjW8QR",
        "outputId": "a00cf4ff-9b0e-4286-e858-e7e8ccb2fc5f"
      },
      "source": [
        "p[1:-4] #slicing includes negative indexing and does not include value of last index va;ue"
      ],
      "execution_count": 35,
      "outputs": [
        {
          "output_type": "execute_result",
          "data": {
            "text/plain": [
              "array([10,  3, 10])"
            ]
          },
          "metadata": {},
          "execution_count": 35
        }
      ]
    },
    {
      "cell_type": "code",
      "metadata": {
        "colab": {
          "base_uri": "https://localhost:8080/"
        },
        "id": "TvQn-QLIZlTe",
        "outputId": "6061cd0d-07c0-465a-c399-09accec38043"
      },
      "source": [
        "p[3:] #will return the array start from 3 rd index till last and includes last index value"
      ],
      "execution_count": 36,
      "outputs": [
        {
          "output_type": "execute_result",
          "data": {
            "text/plain": [
              "array([10, 11,  8,  6,  9])"
            ]
          },
          "metadata": {},
          "execution_count": 36
        }
      ]
    },
    {
      "cell_type": "code",
      "metadata": {
        "colab": {
          "base_uri": "https://localhost:8080/"
        },
        "id": "_OMRY7elZytz",
        "outputId": "238a2f78-5267-4018-fbeb-f47292bd0e00"
      },
      "source": [
        "p[:-1] # will return the array start from 0 index till -1 index excluding -1 index value"
      ],
      "execution_count": 37,
      "outputs": [
        {
          "output_type": "execute_result",
          "data": {
            "text/plain": [
              "array([ 8, 10,  3, 10, 11,  8,  6])"
            ]
          },
          "metadata": {},
          "execution_count": 37
        }
      ]
    },
    {
      "cell_type": "code",
      "metadata": {
        "colab": {
          "base_uri": "https://localhost:8080/"
        },
        "id": "kJUQd4oxaCjd",
        "outputId": "831cfa09-f20e-49a8-d307-3c91890f9e06"
      },
      "source": [
        "p[:] # will return the array fro 0 index till last index including last index value"
      ],
      "execution_count": 38,
      "outputs": [
        {
          "output_type": "execute_result",
          "data": {
            "text/plain": [
              "array([ 8, 10,  3, 10, 11,  8,  6,  9])"
            ]
          },
          "metadata": {},
          "execution_count": 38
        }
      ]
    },
    {
      "cell_type": "code",
      "metadata": {
        "colab": {
          "base_uri": "https://localhost:8080/"
        },
        "id": "1Yd7e_sHXLeZ",
        "outputId": "7df43f0e-c157-4908-9c1f-a339997ee37c"
      },
      "source": [
        "var1 = np.random.randint(2,65,(5,5)) # return random integers betweeb 2(including) and 65(excluding) in (5,5) shape\n",
        "var1"
      ],
      "execution_count": 39,
      "outputs": [
        {
          "output_type": "execute_result",
          "data": {
            "text/plain": [
              "array([[16, 64, 48, 34,  7],\n",
              "       [37,  2, 60, 52, 11],\n",
              "       [55, 52, 11, 61, 26],\n",
              "       [21, 43, 14, 44, 45],\n",
              "       [48, 32, 61, 16, 18]])"
            ]
          },
          "metadata": {},
          "execution_count": 39
        }
      ]
    },
    {
      "cell_type": "code",
      "metadata": {
        "colab": {
          "base_uri": "https://localhost:8080/"
        },
        "id": "0bI8KtekXeVL",
        "outputId": "14abbc75-0d1e-42b3-cfd4-c95fd90ffa25"
      },
      "source": [
        "var1[2] #will return array at index 2"
      ],
      "execution_count": 40,
      "outputs": [
        {
          "output_type": "execute_result",
          "data": {
            "text/plain": [
              "array([55, 52, 11, 61, 26])"
            ]
          },
          "metadata": {},
          "execution_count": 40
        }
      ]
    },
    {
      "cell_type": "code",
      "metadata": {
        "colab": {
          "base_uri": "https://localhost:8080/"
        },
        "id": "1HS7uZGLXtwv",
        "outputId": "8cc45529-bf01-4c7d-fd6a-63114fb3bd0c"
      },
      "source": [
        "var1[2,2] #will return value at index 2 in row and 2 in column"
      ],
      "execution_count": 41,
      "outputs": [
        {
          "output_type": "execute_result",
          "data": {
            "text/plain": [
              "11"
            ]
          },
          "metadata": {},
          "execution_count": 41
        }
      ]
    },
    {
      "cell_type": "code",
      "metadata": {
        "colab": {
          "base_uri": "https://localhost:8080/"
        },
        "id": "PkC8KTB5X9r1",
        "outputId": "45494537-531d-4bf2-f1d2-d53b14f4db83"
      },
      "source": [
        "var1[3,[0,-1,2]] #will return array which are of 3rd indexing row  0 index value and last index value and 2 index value"
      ],
      "execution_count": 42,
      "outputs": [
        {
          "output_type": "execute_result",
          "data": {
            "text/plain": [
              "array([21, 45, 14])"
            ]
          },
          "metadata": {},
          "execution_count": 42
        }
      ]
    },
    {
      "cell_type": "markdown",
      "metadata": {
        "id": "02-_VyEIb3pU"
      },
      "source": [
        "                Use \":\" symbol for selecting range\n"
      ]
    },
    {
      "cell_type": "code",
      "metadata": {
        "colab": {
          "base_uri": "https://localhost:8080/"
        },
        "id": "E5MbO8Q7avhJ",
        "outputId": "b0882015-aa26-4233-f40a-722044013069"
      },
      "source": [
        "var1[3, 0:-2] #will slice the 3 rd indexed array and return array with values start from 0 index till-2 index and doesnot include -2 index value"
      ],
      "execution_count": 43,
      "outputs": [
        {
          "output_type": "execute_result",
          "data": {
            "text/plain": [
              "array([21, 43, 14])"
            ]
          },
          "metadata": {},
          "execution_count": 43
        }
      ]
    },
    {
      "cell_type": "code",
      "metadata": {
        "colab": {
          "base_uri": "https://localhost:8080/"
        },
        "id": "PpNuxAejZNc_",
        "outputId": "43d4d846-50b1-4acf-9d29-577535c59029"
      },
      "source": [
        "var1[3, 0:3]  #will slice the 3 rd indexed array and return array with values start from 0 index till3 index and doesnot include 3 index value"
      ],
      "execution_count": 44,
      "outputs": [
        {
          "output_type": "execute_result",
          "data": {
            "text/plain": [
              "array([21, 43, 14])"
            ]
          },
          "metadata": {},
          "execution_count": 44
        }
      ]
    },
    {
      "cell_type": "code",
      "metadata": {
        "colab": {
          "base_uri": "https://localhost:8080/"
        },
        "id": "qKZEE5kbass2",
        "outputId": "a9c2c60e-3f60-46f6-c2ef-b073c5e9c74f"
      },
      "source": [
        "var1[2:]      #return all the rows from 2 till last "
      ],
      "execution_count": 45,
      "outputs": [
        {
          "output_type": "execute_result",
          "data": {
            "text/plain": [
              "array([[55, 52, 11, 61, 26],\n",
              "       [21, 43, 14, 44, 45],\n",
              "       [48, 32, 61, 16, 18]])"
            ]
          },
          "metadata": {},
          "execution_count": 45
        }
      ]
    },
    {
      "cell_type": "code",
      "metadata": {
        "colab": {
          "base_uri": "https://localhost:8080/"
        },
        "id": "wxvtc70-cQAj",
        "outputId": "a51455ed-017e-4ca2-ac08-55c0f5b25341"
      },
      "source": [
        "var1[1:,2:]     #return all the rows from 1 till last and 2 nd column till last"
      ],
      "execution_count": 46,
      "outputs": [
        {
          "output_type": "execute_result",
          "data": {
            "text/plain": [
              "array([[60, 52, 11],\n",
              "       [11, 61, 26],\n",
              "       [14, 44, 45],\n",
              "       [61, 16, 18]])"
            ]
          },
          "metadata": {},
          "execution_count": 46
        }
      ]
    },
    {
      "cell_type": "markdown",
      "metadata": {
        "id": "kaGVNODGtQ9G"
      },
      "source": [
        "#conditional Indexing"
      ]
    },
    {
      "cell_type": "code",
      "metadata": {
        "id": "rHe4pk08ckG7",
        "colab": {
          "base_uri": "https://localhost:8080/"
        },
        "outputId": "d8c60bca-52ac-49b9-9234-40e599e9fae0"
      },
      "source": [
        "mn = np.random.randint(0,50,50)\n",
        "mn"
      ],
      "execution_count": 47,
      "outputs": [
        {
          "output_type": "execute_result",
          "data": {
            "text/plain": [
              "array([37, 24,  8,  4, 21,  1, 25,  8, 10, 44, 46, 36, 41,  8,  2, 31, 36,\n",
              "       35, 32,  1, 37, 42, 31, 31, 24, 18, 46, 10,  6, 22, 17, 27, 34, 11,\n",
              "       46, 38, 21, 49, 41, 47, 29,  4, 19, 18, 15,  0, 49, 34, 31, 38])"
            ]
          },
          "metadata": {},
          "execution_count": 47
        }
      ]
    },
    {
      "cell_type": "code",
      "metadata": {
        "colab": {
          "base_uri": "https://localhost:8080/"
        },
        "id": "d_EkV_OPtfXm",
        "outputId": "0fd6871a-978f-4828-f646-4378a31fb214"
      },
      "source": [
        "mn>25 # will return bollean according to condition"
      ],
      "execution_count": 48,
      "outputs": [
        {
          "output_type": "execute_result",
          "data": {
            "text/plain": [
              "array([ True, False, False, False, False, False, False, False, False,\n",
              "        True,  True,  True,  True, False, False,  True,  True,  True,\n",
              "        True, False,  True,  True,  True,  True, False, False,  True,\n",
              "       False, False, False, False,  True,  True, False,  True,  True,\n",
              "       False,  True,  True,  True,  True, False, False, False, False,\n",
              "       False,  True,  True,  True,  True])"
            ]
          },
          "metadata": {},
          "execution_count": 48
        }
      ]
    },
    {
      "cell_type": "code",
      "metadata": {
        "colab": {
          "base_uri": "https://localhost:8080/"
        },
        "id": "Um2HKUAIuBVW",
        "outputId": "35b7d63a-6b63-4c7c-a6f6-80b2a6f1f2b6"
      },
      "source": [
        "mn[mn>25]   #will return the values of mn which are obeying the condition"
      ],
      "execution_count": 49,
      "outputs": [
        {
          "output_type": "execute_result",
          "data": {
            "text/plain": [
              "array([37, 44, 46, 36, 41, 31, 36, 35, 32, 37, 42, 31, 31, 46, 27, 34, 46,\n",
              "       38, 49, 41, 47, 29, 49, 34, 31, 38])"
            ]
          },
          "metadata": {},
          "execution_count": 49
        }
      ]
    },
    {
      "cell_type": "code",
      "metadata": {
        "colab": {
          "base_uri": "https://localhost:8080/"
        },
        "id": "s5MA8GO4upwg",
        "outputId": "2d1915a5-1a34-471a-b077-db81be77d50d"
      },
      "source": [
        "mn[mn>30] = 25  #casting the value \"25\" to the values which are greater than 30\n",
        "mn"
      ],
      "execution_count": 50,
      "outputs": [
        {
          "output_type": "execute_result",
          "data": {
            "text/plain": [
              "array([25, 24,  8,  4, 21,  1, 25,  8, 10, 25, 25, 25, 25,  8,  2, 25, 25,\n",
              "       25, 25,  1, 25, 25, 25, 25, 24, 18, 25, 10,  6, 22, 17, 27, 25, 11,\n",
              "       25, 25, 21, 25, 25, 25, 29,  4, 19, 18, 15,  0, 25, 25, 25, 25])"
            ]
          },
          "metadata": {},
          "execution_count": 50
        }
      ]
    },
    {
      "cell_type": "code",
      "metadata": {
        "colab": {
          "base_uri": "https://localhost:8080/"
        },
        "id": "_0VxrOwuusA2",
        "outputId": "aa2462b9-2c31-47a5-e1a3-ade130e2c7da"
      },
      "source": [
        "mn.resize(10,5)\n",
        "mn"
      ],
      "execution_count": 51,
      "outputs": [
        {
          "output_type": "execute_result",
          "data": {
            "text/plain": [
              "array([[25, 24,  8,  4, 21],\n",
              "       [ 1, 25,  8, 10, 25],\n",
              "       [25, 25, 25,  8,  2],\n",
              "       [25, 25, 25, 25,  1],\n",
              "       [25, 25, 25, 25, 24],\n",
              "       [18, 25, 10,  6, 22],\n",
              "       [17, 27, 25, 11, 25],\n",
              "       [25, 21, 25, 25, 25],\n",
              "       [29,  4, 19, 18, 15],\n",
              "       [ 0, 25, 25, 25, 25]])"
            ]
          },
          "metadata": {},
          "execution_count": 51
        }
      ]
    },
    {
      "cell_type": "markdown",
      "metadata": {
        "id": "JeK3fNK_xopm"
      },
      "source": [
        "#creating a copy"
      ]
    },
    {
      "cell_type": "code",
      "metadata": {
        "colab": {
          "base_uri": "https://localhost:8080/"
        },
        "id": "L-CyhDhCwqUZ",
        "outputId": "de37f04f-647d-4e1a-b273-931900a062bd"
      },
      "source": [
        "mn1 = mn[3:,2:]   #creating a copy according to indexes\n",
        "mn1"
      ],
      "execution_count": 52,
      "outputs": [
        {
          "output_type": "execute_result",
          "data": {
            "text/plain": [
              "array([[25, 25,  1],\n",
              "       [25, 25, 24],\n",
              "       [10,  6, 22],\n",
              "       [25, 11, 25],\n",
              "       [25, 25, 25],\n",
              "       [19, 18, 15],\n",
              "       [25, 25, 25]])"
            ]
          },
          "metadata": {},
          "execution_count": 52
        }
      ]
    },
    {
      "cell_type": "code",
      "metadata": {
        "id": "cRhLweovxQrr"
      },
      "source": [
        "mn_copy = mn.copy()   #copy() will copy the mn values and store them intomn_copy"
      ],
      "execution_count": 53,
      "outputs": []
    },
    {
      "cell_type": "code",
      "metadata": {
        "colab": {
          "base_uri": "https://localhost:8080/"
        },
        "id": "NW4yqkWlykVM",
        "outputId": "82c902c0-9797-49bc-df6c-8c3575c279b3"
      },
      "source": [
        "mn_copy"
      ],
      "execution_count": 54,
      "outputs": [
        {
          "output_type": "execute_result",
          "data": {
            "text/plain": [
              "array([[25, 24,  8,  4, 21],\n",
              "       [ 1, 25,  8, 10, 25],\n",
              "       [25, 25, 25,  8,  2],\n",
              "       [25, 25, 25, 25,  1],\n",
              "       [25, 25, 25, 25, 24],\n",
              "       [18, 25, 10,  6, 22],\n",
              "       [17, 27, 25, 11, 25],\n",
              "       [25, 21, 25, 25, 25],\n",
              "       [29,  4, 19, 18, 15],\n",
              "       [ 0, 25, 25, 25, 25]])"
            ]
          },
          "metadata": {},
          "execution_count": 54
        }
      ]
    },
    {
      "cell_type": "code",
      "metadata": {
        "id": "39AFrjf7yoqO"
      },
      "source": [
        "import pandas as pd   #importing Pandas Library"
      ],
      "execution_count": 55,
      "outputs": []
    },
    {
      "cell_type": "code",
      "metadata": {
        "id": "08tmEydb2qPq"
      },
      "source": [
        "covid_stats = pd.read_csv(\"/content/covid_stats.csv\") #read_csv function will read the csv file in given path"
      ],
      "execution_count": 56,
      "outputs": []
    },
    {
      "cell_type": "markdown",
      "metadata": {
        "id": "VitnIPmszeNK"
      },
      "source": [
        "Cleaning the Data"
      ]
    },
    {
      "cell_type": "code",
      "metadata": {
        "id": "DpB5z9dh23kR",
        "colab": {
          "base_uri": "https://localhost:8080/",
          "height": 1000
        },
        "outputId": "2623749e-2c2e-4b19-94b2-b12fa50868a1"
      },
      "source": [
        "covid_stats"
      ],
      "execution_count": 57,
      "outputs": [
        {
          "output_type": "execute_result",
          "data": {
            "text/html": [
              "<div>\n",
              "<style scoped>\n",
              "    .dataframe tbody tr th:only-of-type {\n",
              "        vertical-align: middle;\n",
              "    }\n",
              "\n",
              "    .dataframe tbody tr th {\n",
              "        vertical-align: top;\n",
              "    }\n",
              "\n",
              "    .dataframe thead th {\n",
              "        text-align: right;\n",
              "    }\n",
              "</style>\n",
              "<table border=\"1\" class=\"dataframe\">\n",
              "  <thead>\n",
              "    <tr style=\"text-align: right;\">\n",
              "      <th></th>\n",
              "      <th>State Wise Breakdown</th>\n",
              "      <th>Total Cases</th>\n",
              "      <th>Active Cases</th>\n",
              "      <th>nan</th>\n",
              "      <th>rec</th>\n",
              "    </tr>\n",
              "  </thead>\n",
              "  <tbody>\n",
              "    <tr>\n",
              "      <th>0</th>\n",
              "      <td>Maharashtra</td>\n",
              "      <td>20228</td>\n",
              "      <td>15649</td>\n",
              "      <td>779</td>\n",
              "      <td>3800</td>\n",
              "    </tr>\n",
              "    <tr>\n",
              "      <th>1</th>\n",
              "      <td>Gujarat</td>\n",
              "      <td>7797</td>\n",
              "      <td>5234</td>\n",
              "      <td>472</td>\n",
              "      <td>2091</td>\n",
              "    </tr>\n",
              "    <tr>\n",
              "      <th>2</th>\n",
              "      <td>Delhi</td>\n",
              "      <td>6542</td>\n",
              "      <td>4454</td>\n",
              "      <td>68</td>\n",
              "      <td>2020</td>\n",
              "    </tr>\n",
              "    <tr>\n",
              "      <th>3</th>\n",
              "      <td>Tamil Nadu</td>\n",
              "      <td>6535</td>\n",
              "      <td>4667</td>\n",
              "      <td>44</td>\n",
              "      <td>1824</td>\n",
              "    </tr>\n",
              "    <tr>\n",
              "      <th>4</th>\n",
              "      <td>Rajasthan</td>\n",
              "      <td>3708</td>\n",
              "      <td>1440</td>\n",
              "      <td>106</td>\n",
              "      <td>2162</td>\n",
              "    </tr>\n",
              "    <tr>\n",
              "      <th>5</th>\n",
              "      <td>Madhya Pradesh</td>\n",
              "      <td>3457</td>\n",
              "      <td>1766</td>\n",
              "      <td>211</td>\n",
              "      <td>1480</td>\n",
              "    </tr>\n",
              "    <tr>\n",
              "      <th>6</th>\n",
              "      <td>Uttar Pradesh</td>\n",
              "      <td>3373</td>\n",
              "      <td>1800</td>\n",
              "      <td>74</td>\n",
              "      <td>1499</td>\n",
              "    </tr>\n",
              "    <tr>\n",
              "      <th>7</th>\n",
              "      <td>Andhra Pradesh</td>\n",
              "      <td>1930</td>\n",
              "      <td>999</td>\n",
              "      <td>44</td>\n",
              "      <td>887</td>\n",
              "    </tr>\n",
              "    <tr>\n",
              "      <th>8</th>\n",
              "      <td>West Bengal**</td>\n",
              "      <td>1786</td>\n",
              "      <td>1243</td>\n",
              "      <td>171</td>\n",
              "      <td>372</td>\n",
              "    </tr>\n",
              "    <tr>\n",
              "      <th>9</th>\n",
              "      <td>Punjab</td>\n",
              "      <td>1762</td>\n",
              "      <td>1574</td>\n",
              "      <td>31</td>\n",
              "      <td>157</td>\n",
              "    </tr>\n",
              "    <tr>\n",
              "      <th>10</th>\n",
              "      <td>Telangana</td>\n",
              "      <td>1163</td>\n",
              "      <td>382</td>\n",
              "      <td>30</td>\n",
              "      <td>751</td>\n",
              "    </tr>\n",
              "    <tr>\n",
              "      <th>11</th>\n",
              "      <td>Jammu and Kashmir</td>\n",
              "      <td>836</td>\n",
              "      <td>459</td>\n",
              "      <td>9</td>\n",
              "      <td>368</td>\n",
              "    </tr>\n",
              "    <tr>\n",
              "      <th>12</th>\n",
              "      <td>Karnataka</td>\n",
              "      <td>794</td>\n",
              "      <td>378</td>\n",
              "      <td>30</td>\n",
              "      <td>386</td>\n",
              "    </tr>\n",
              "    <tr>\n",
              "      <th>13</th>\n",
              "      <td>Haryana</td>\n",
              "      <td>675</td>\n",
              "      <td>376</td>\n",
              "      <td>9</td>\n",
              "      <td>290</td>\n",
              "    </tr>\n",
              "    <tr>\n",
              "      <th>14</th>\n",
              "      <td>Bihar</td>\n",
              "      <td>611</td>\n",
              "      <td>288</td>\n",
              "      <td>5</td>\n",
              "      <td>318</td>\n",
              "    </tr>\n",
              "    <tr>\n",
              "      <th>15</th>\n",
              "      <td>Kerala</td>\n",
              "      <td>505</td>\n",
              "      <td>16</td>\n",
              "      <td>4</td>\n",
              "      <td>485</td>\n",
              "    </tr>\n",
              "    <tr>\n",
              "      <th>16</th>\n",
              "      <td>Odisha</td>\n",
              "      <td>294</td>\n",
              "      <td>224</td>\n",
              "      <td>2</td>\n",
              "      <td>68</td>\n",
              "    </tr>\n",
              "    <tr>\n",
              "      <th>17</th>\n",
              "      <td>Chandigarh</td>\n",
              "      <td>169</td>\n",
              "      <td>143</td>\n",
              "      <td>2</td>\n",
              "      <td>24</td>\n",
              "    </tr>\n",
              "    <tr>\n",
              "      <th>18</th>\n",
              "      <td>Jharkhand</td>\n",
              "      <td>156</td>\n",
              "      <td>101</td>\n",
              "      <td>3</td>\n",
              "      <td>52</td>\n",
              "    </tr>\n",
              "    <tr>\n",
              "      <th>19</th>\n",
              "      <td>Tripura</td>\n",
              "      <td>135</td>\n",
              "      <td>133</td>\n",
              "      <td>0</td>\n",
              "      <td>2</td>\n",
              "    </tr>\n",
              "    <tr>\n",
              "      <th>20</th>\n",
              "      <td>Uttarakhand</td>\n",
              "      <td>67</td>\n",
              "      <td>20</td>\n",
              "      <td>1</td>\n",
              "      <td>46</td>\n",
              "    </tr>\n",
              "    <tr>\n",
              "      <th>21</th>\n",
              "      <td>Assam</td>\n",
              "      <td>62</td>\n",
              "      <td>26</td>\n",
              "      <td>2</td>\n",
              "      <td>34</td>\n",
              "    </tr>\n",
              "    <tr>\n",
              "      <th>22</th>\n",
              "      <td>Chhattisgarh</td>\n",
              "      <td>59</td>\n",
              "      <td>16</td>\n",
              "      <td>0</td>\n",
              "      <td>43</td>\n",
              "    </tr>\n",
              "    <tr>\n",
              "      <th>23</th>\n",
              "      <td>Himachal Pradesh‡</td>\n",
              "      <td>53</td>\n",
              "      <td>13</td>\n",
              "      <td>3</td>\n",
              "      <td>37</td>\n",
              "    </tr>\n",
              "    <tr>\n",
              "      <th>24</th>\n",
              "      <td>Ladakh</td>\n",
              "      <td>42</td>\n",
              "      <td>25</td>\n",
              "      <td>0</td>\n",
              "      <td>17</td>\n",
              "    </tr>\n",
              "    <tr>\n",
              "      <th>25</th>\n",
              "      <td>Andaman and Nicobar Islands</td>\n",
              "      <td>33</td>\n",
              "      <td>0</td>\n",
              "      <td>0</td>\n",
              "      <td>33</td>\n",
              "    </tr>\n",
              "    <tr>\n",
              "      <th>26</th>\n",
              "      <td>Meghalaya</td>\n",
              "      <td>13</td>\n",
              "      <td>2</td>\n",
              "      <td>1</td>\n",
              "      <td>10</td>\n",
              "    </tr>\n",
              "    <tr>\n",
              "      <th>27</th>\n",
              "      <td>Puducherry†</td>\n",
              "      <td>10</td>\n",
              "      <td>3</td>\n",
              "      <td>0</td>\n",
              "      <td>7</td>\n",
              "    </tr>\n",
              "    <tr>\n",
              "      <th>28</th>\n",
              "      <td>Goa</td>\n",
              "      <td>7</td>\n",
              "      <td>0</td>\n",
              "      <td>0</td>\n",
              "      <td>7</td>\n",
              "    </tr>\n",
              "    <tr>\n",
              "      <th>29</th>\n",
              "      <td>Manipur</td>\n",
              "      <td>2</td>\n",
              "      <td>0</td>\n",
              "      <td>0</td>\n",
              "      <td>2</td>\n",
              "    </tr>\n",
              "    <tr>\n",
              "      <th>30</th>\n",
              "      <td>Dadra and Nagar Haveli*</td>\n",
              "      <td>1</td>\n",
              "      <td>1</td>\n",
              "      <td>0</td>\n",
              "      <td>0</td>\n",
              "    </tr>\n",
              "    <tr>\n",
              "      <th>31</th>\n",
              "      <td>Arunachal Pradesh</td>\n",
              "      <td>1</td>\n",
              "      <td>0</td>\n",
              "      <td>0</td>\n",
              "      <td>1</td>\n",
              "    </tr>\n",
              "    <tr>\n",
              "      <th>32</th>\n",
              "      <td>Mizoram</td>\n",
              "      <td>1</td>\n",
              "      <td>0</td>\n",
              "      <td>0</td>\n",
              "      <td>1</td>\n",
              "    </tr>\n",
              "    <tr>\n",
              "      <th>33</th>\n",
              "      <td>Nagaland</td>\n",
              "      <td>1</td>\n",
              "      <td>0</td>\n",
              "      <td>0</td>\n",
              "      <td>1</td>\n",
              "    </tr>\n",
              "    <tr>\n",
              "      <th>34</th>\n",
              "      <td>Total</td>\n",
              "      <td>62808</td>\n",
              "      <td>41432</td>\n",
              "      <td>2101</td>\n",
              "      <td>19275</td>\n",
              "    </tr>\n",
              "  </tbody>\n",
              "</table>\n",
              "</div>"
            ],
            "text/plain": [
              "           State Wise Breakdown  Total Cases  Active Cases   nan    rec\n",
              "0                   Maharashtra        20228         15649   779   3800\n",
              "1                       Gujarat         7797          5234   472   2091\n",
              "2                         Delhi         6542          4454    68   2020\n",
              "3                    Tamil Nadu         6535          4667    44   1824\n",
              "4                     Rajasthan         3708          1440   106   2162\n",
              "5                Madhya Pradesh         3457          1766   211   1480\n",
              "6                 Uttar Pradesh         3373          1800    74   1499\n",
              "7                Andhra Pradesh         1930           999    44    887\n",
              "8                 West Bengal**         1786          1243   171    372\n",
              "9                        Punjab         1762          1574    31    157\n",
              "10                    Telangana         1163           382    30    751\n",
              "11            Jammu and Kashmir          836           459     9    368\n",
              "12                    Karnataka          794           378    30    386\n",
              "13                      Haryana          675           376     9    290\n",
              "14                        Bihar          611           288     5    318\n",
              "15                       Kerala          505            16     4    485\n",
              "16                       Odisha          294           224     2     68\n",
              "17                   Chandigarh          169           143     2     24\n",
              "18                    Jharkhand          156           101     3     52\n",
              "19                      Tripura          135           133     0      2\n",
              "20                  Uttarakhand           67            20     1     46\n",
              "21                        Assam           62            26     2     34\n",
              "22                 Chhattisgarh           59            16     0     43\n",
              "23            Himachal Pradesh‡           53            13     3     37\n",
              "24                       Ladakh           42            25     0     17\n",
              "25  Andaman and Nicobar Islands           33             0     0     33\n",
              "26                    Meghalaya           13             2     1     10\n",
              "27                  Puducherry†           10             3     0      7\n",
              "28                          Goa            7             0     0      7\n",
              "29                      Manipur            2             0     0      2\n",
              "30      Dadra and Nagar Haveli*            1             1     0      0\n",
              "31            Arunachal Pradesh            1             0     0      1\n",
              "32                      Mizoram            1             0     0      1\n",
              "33                     Nagaland            1             0     0      1\n",
              "34                        Total        62808         41432  2101  19275"
            ]
          },
          "metadata": {},
          "execution_count": 57
        }
      ]
    },
    {
      "cell_type": "code",
      "metadata": {
        "id": "da5qtYwo4uU0"
      },
      "source": [
        "covid_stats_copy = covid_stats.copy()  #copying the csv file\n",
        "covid_stats_copy = covid_stats_copy[:-1] #removed the total"
      ],
      "execution_count": 74,
      "outputs": []
    },
    {
      "cell_type": "code",
      "metadata": {
        "colab": {
          "base_uri": "https://localhost:8080/",
          "height": 206
        },
        "id": "u3EUFnH775hK",
        "outputId": "d511a01c-af39-4afa-f317-baf93acd5cef"
      },
      "source": [
        "covid_stats_copy.head()"
      ],
      "execution_count": 75,
      "outputs": [
        {
          "output_type": "execute_result",
          "data": {
            "text/html": [
              "<div>\n",
              "<style scoped>\n",
              "    .dataframe tbody tr th:only-of-type {\n",
              "        vertical-align: middle;\n",
              "    }\n",
              "\n",
              "    .dataframe tbody tr th {\n",
              "        vertical-align: top;\n",
              "    }\n",
              "\n",
              "    .dataframe thead th {\n",
              "        text-align: right;\n",
              "    }\n",
              "</style>\n",
              "<table border=\"1\" class=\"dataframe\">\n",
              "  <thead>\n",
              "    <tr style=\"text-align: right;\">\n",
              "      <th></th>\n",
              "      <th>State Wise Breakdown</th>\n",
              "      <th>Total Cases</th>\n",
              "      <th>Active Cases</th>\n",
              "      <th>nan</th>\n",
              "      <th>rec</th>\n",
              "    </tr>\n",
              "  </thead>\n",
              "  <tbody>\n",
              "    <tr>\n",
              "      <th>0</th>\n",
              "      <td>Maharashtra</td>\n",
              "      <td>20228</td>\n",
              "      <td>15649</td>\n",
              "      <td>779</td>\n",
              "      <td>3800</td>\n",
              "    </tr>\n",
              "    <tr>\n",
              "      <th>1</th>\n",
              "      <td>Gujarat</td>\n",
              "      <td>7797</td>\n",
              "      <td>5234</td>\n",
              "      <td>472</td>\n",
              "      <td>2091</td>\n",
              "    </tr>\n",
              "    <tr>\n",
              "      <th>2</th>\n",
              "      <td>Delhi</td>\n",
              "      <td>6542</td>\n",
              "      <td>4454</td>\n",
              "      <td>68</td>\n",
              "      <td>2020</td>\n",
              "    </tr>\n",
              "    <tr>\n",
              "      <th>3</th>\n",
              "      <td>Tamil Nadu</td>\n",
              "      <td>6535</td>\n",
              "      <td>4667</td>\n",
              "      <td>44</td>\n",
              "      <td>1824</td>\n",
              "    </tr>\n",
              "    <tr>\n",
              "      <th>4</th>\n",
              "      <td>Rajasthan</td>\n",
              "      <td>3708</td>\n",
              "      <td>1440</td>\n",
              "      <td>106</td>\n",
              "      <td>2162</td>\n",
              "    </tr>\n",
              "  </tbody>\n",
              "</table>\n",
              "</div>"
            ],
            "text/plain": [
              "  State Wise Breakdown  Total Cases  Active Cases  nan   rec\n",
              "0          Maharashtra        20228         15649  779  3800\n",
              "1              Gujarat         7797          5234  472  2091\n",
              "2                Delhi         6542          4454   68  2020\n",
              "3           Tamil Nadu         6535          4667   44  1824\n",
              "4            Rajasthan         3708          1440  106  2162"
            ]
          },
          "metadata": {},
          "execution_count": 75
        }
      ]
    },
    {
      "cell_type": "code",
      "metadata": {
        "id": "boTo7aa878rh"
      },
      "source": [
        "covid_stats_copy[['State','Dead','Recovered']] = covid_stats_copy[['State Wise Breakdown','nan','rec']] #copying  the columns and adding them to Dataframe"
      ],
      "execution_count": 76,
      "outputs": []
    },
    {
      "cell_type": "code",
      "metadata": {
        "colab": {
          "base_uri": "https://localhost:8080/",
          "height": 206
        },
        "id": "aX40T6j4xHp4",
        "outputId": "0753394f-2eca-4427-bc80-c4b679db4505"
      },
      "source": [
        "covid_stats_copy.head()"
      ],
      "execution_count": 77,
      "outputs": [
        {
          "output_type": "execute_result",
          "data": {
            "text/html": [
              "<div>\n",
              "<style scoped>\n",
              "    .dataframe tbody tr th:only-of-type {\n",
              "        vertical-align: middle;\n",
              "    }\n",
              "\n",
              "    .dataframe tbody tr th {\n",
              "        vertical-align: top;\n",
              "    }\n",
              "\n",
              "    .dataframe thead th {\n",
              "        text-align: right;\n",
              "    }\n",
              "</style>\n",
              "<table border=\"1\" class=\"dataframe\">\n",
              "  <thead>\n",
              "    <tr style=\"text-align: right;\">\n",
              "      <th></th>\n",
              "      <th>State Wise Breakdown</th>\n",
              "      <th>Total Cases</th>\n",
              "      <th>Active Cases</th>\n",
              "      <th>nan</th>\n",
              "      <th>rec</th>\n",
              "      <th>State</th>\n",
              "      <th>Dead</th>\n",
              "      <th>Recovered</th>\n",
              "    </tr>\n",
              "  </thead>\n",
              "  <tbody>\n",
              "    <tr>\n",
              "      <th>0</th>\n",
              "      <td>Maharashtra</td>\n",
              "      <td>20228</td>\n",
              "      <td>15649</td>\n",
              "      <td>779</td>\n",
              "      <td>3800</td>\n",
              "      <td>Maharashtra</td>\n",
              "      <td>779</td>\n",
              "      <td>3800</td>\n",
              "    </tr>\n",
              "    <tr>\n",
              "      <th>1</th>\n",
              "      <td>Gujarat</td>\n",
              "      <td>7797</td>\n",
              "      <td>5234</td>\n",
              "      <td>472</td>\n",
              "      <td>2091</td>\n",
              "      <td>Gujarat</td>\n",
              "      <td>472</td>\n",
              "      <td>2091</td>\n",
              "    </tr>\n",
              "    <tr>\n",
              "      <th>2</th>\n",
              "      <td>Delhi</td>\n",
              "      <td>6542</td>\n",
              "      <td>4454</td>\n",
              "      <td>68</td>\n",
              "      <td>2020</td>\n",
              "      <td>Delhi</td>\n",
              "      <td>68</td>\n",
              "      <td>2020</td>\n",
              "    </tr>\n",
              "    <tr>\n",
              "      <th>3</th>\n",
              "      <td>Tamil Nadu</td>\n",
              "      <td>6535</td>\n",
              "      <td>4667</td>\n",
              "      <td>44</td>\n",
              "      <td>1824</td>\n",
              "      <td>Tamil Nadu</td>\n",
              "      <td>44</td>\n",
              "      <td>1824</td>\n",
              "    </tr>\n",
              "    <tr>\n",
              "      <th>4</th>\n",
              "      <td>Rajasthan</td>\n",
              "      <td>3708</td>\n",
              "      <td>1440</td>\n",
              "      <td>106</td>\n",
              "      <td>2162</td>\n",
              "      <td>Rajasthan</td>\n",
              "      <td>106</td>\n",
              "      <td>2162</td>\n",
              "    </tr>\n",
              "  </tbody>\n",
              "</table>\n",
              "</div>"
            ],
            "text/plain": [
              "  State Wise Breakdown  Total Cases  Active Cases  ...        State  Dead Recovered\n",
              "0          Maharashtra        20228         15649  ...  Maharashtra   779      3800\n",
              "1              Gujarat         7797          5234  ...      Gujarat   472      2091\n",
              "2                Delhi         6542          4454  ...        Delhi    68      2020\n",
              "3           Tamil Nadu         6535          4667  ...   Tamil Nadu    44      1824\n",
              "4            Rajasthan         3708          1440  ...    Rajasthan   106      2162\n",
              "\n",
              "[5 rows x 8 columns]"
            ]
          },
          "metadata": {},
          "execution_count": 77
        }
      ]
    },
    {
      "cell_type": "code",
      "metadata": {
        "id": "3COMt3GrxrlG"
      },
      "source": [
        "covid_stats_copy = covid_stats_copy.drop(['State Wise Breakdown','nan','rec'], axis=1) #Dropping the columns which are named improperly"
      ],
      "execution_count": 78,
      "outputs": []
    },
    {
      "cell_type": "code",
      "metadata": {
        "colab": {
          "base_uri": "https://localhost:8080/",
          "height": 206
        },
        "id": "LcKDWWHfyDdy",
        "outputId": "e23c2600-1ce4-4c89-eff4-e8d0d8ab3aba"
      },
      "source": [
        "covid_stats_copy.head()"
      ],
      "execution_count": 79,
      "outputs": [
        {
          "output_type": "execute_result",
          "data": {
            "text/html": [
              "<div>\n",
              "<style scoped>\n",
              "    .dataframe tbody tr th:only-of-type {\n",
              "        vertical-align: middle;\n",
              "    }\n",
              "\n",
              "    .dataframe tbody tr th {\n",
              "        vertical-align: top;\n",
              "    }\n",
              "\n",
              "    .dataframe thead th {\n",
              "        text-align: right;\n",
              "    }\n",
              "</style>\n",
              "<table border=\"1\" class=\"dataframe\">\n",
              "  <thead>\n",
              "    <tr style=\"text-align: right;\">\n",
              "      <th></th>\n",
              "      <th>Total Cases</th>\n",
              "      <th>Active Cases</th>\n",
              "      <th>State</th>\n",
              "      <th>Dead</th>\n",
              "      <th>Recovered</th>\n",
              "    </tr>\n",
              "  </thead>\n",
              "  <tbody>\n",
              "    <tr>\n",
              "      <th>0</th>\n",
              "      <td>20228</td>\n",
              "      <td>15649</td>\n",
              "      <td>Maharashtra</td>\n",
              "      <td>779</td>\n",
              "      <td>3800</td>\n",
              "    </tr>\n",
              "    <tr>\n",
              "      <th>1</th>\n",
              "      <td>7797</td>\n",
              "      <td>5234</td>\n",
              "      <td>Gujarat</td>\n",
              "      <td>472</td>\n",
              "      <td>2091</td>\n",
              "    </tr>\n",
              "    <tr>\n",
              "      <th>2</th>\n",
              "      <td>6542</td>\n",
              "      <td>4454</td>\n",
              "      <td>Delhi</td>\n",
              "      <td>68</td>\n",
              "      <td>2020</td>\n",
              "    </tr>\n",
              "    <tr>\n",
              "      <th>3</th>\n",
              "      <td>6535</td>\n",
              "      <td>4667</td>\n",
              "      <td>Tamil Nadu</td>\n",
              "      <td>44</td>\n",
              "      <td>1824</td>\n",
              "    </tr>\n",
              "    <tr>\n",
              "      <th>4</th>\n",
              "      <td>3708</td>\n",
              "      <td>1440</td>\n",
              "      <td>Rajasthan</td>\n",
              "      <td>106</td>\n",
              "      <td>2162</td>\n",
              "    </tr>\n",
              "  </tbody>\n",
              "</table>\n",
              "</div>"
            ],
            "text/plain": [
              "   Total Cases  Active Cases        State  Dead  Recovered\n",
              "0        20228         15649  Maharashtra   779       3800\n",
              "1         7797          5234      Gujarat   472       2091\n",
              "2         6542          4454        Delhi    68       2020\n",
              "3         6535          4667   Tamil Nadu    44       1824\n",
              "4         3708          1440    Rajasthan   106       2162"
            ]
          },
          "metadata": {},
          "execution_count": 79
        }
      ]
    },
    {
      "cell_type": "code",
      "metadata": {
        "colab": {
          "base_uri": "https://localhost:8080/"
        },
        "id": "VMWASn_v2g9k",
        "outputId": "efee4668-d7a0-48b2-d889-9425f0473679"
      },
      "source": [
        "covid_stats_copy['State'] # To return the values under State column"
      ],
      "execution_count": 90,
      "outputs": [
        {
          "output_type": "execute_result",
          "data": {
            "text/plain": [
              "0                     Maharashtra\n",
              "1                         Gujarat\n",
              "2                           Delhi\n",
              "3                      Tamil Nadu\n",
              "4                       Rajasthan\n",
              "5                  Madhya Pradesh\n",
              "6                   Uttar Pradesh\n",
              "7                  Andhra Pradesh\n",
              "8                   West Bengal**\n",
              "9                          Punjab\n",
              "10                      Telangana\n",
              "11              Jammu and Kashmir\n",
              "12                      Karnataka\n",
              "13                        Haryana\n",
              "14                          Bihar\n",
              "15                         Kerala\n",
              "16                         Odisha\n",
              "17                     Chandigarh\n",
              "18                      Jharkhand\n",
              "19                        Tripura\n",
              "20                    Uttarakhand\n",
              "21                          Assam\n",
              "22                   Chhattisgarh\n",
              "23              Himachal Pradesh‡\n",
              "24                         Ladakh\n",
              "25    Andaman and Nicobar Islands\n",
              "26                      Meghalaya\n",
              "27                    Puducherry†\n",
              "28                            Goa\n",
              "29                        Manipur\n",
              "30        Dadra and Nagar Haveli*\n",
              "31              Arunachal Pradesh\n",
              "32                        Mizoram\n",
              "33                       Nagaland\n",
              "Name: State, dtype: object"
            ]
          },
          "metadata": {},
          "execution_count": 90
        }
      ]
    },
    {
      "cell_type": "code",
      "metadata": {
        "id": "VtvIibU3yVAH"
      },
      "source": [
        "#covid_stats_copy.re (['State','Total Cases','Active Cases','Dead','Recovered'], axis=1)"
      ],
      "execution_count": 80,
      "outputs": []
    },
    {
      "cell_type": "markdown",
      "metadata": {
        "id": "7l3NrDol02Hd"
      },
      "source": [
        "#Creating a Matrix"
      ]
    },
    {
      "cell_type": "code",
      "metadata": {
        "colab": {
          "base_uri": "https://localhost:8080/"
        },
        "id": "Vs-5jW1tyvjE",
        "outputId": "60f15993-88b2-4a17-f4c0-47a07b281ddc"
      },
      "source": [
        "var_matrix = np.matrix([[1,3,6,10],[2,6,45,76,46],[1,52,85],[1.2,5,2]])  #syntax for creating Matrix\n",
        "var_matrix"
      ],
      "execution_count": 87,
      "outputs": [
        {
          "output_type": "stream",
          "name": "stderr",
          "text": [
            "/usr/local/lib/python3.7/dist-packages/numpy/matrixlib/defmatrix.py:145: VisibleDeprecationWarning: Creating an ndarray from ragged nested sequences (which is a list-or-tuple of lists-or-tuples-or ndarrays with different lengths or shapes) is deprecated. If you meant to do this, you must specify 'dtype=object' when creating the ndarray\n",
            "  arr = N.array(data, dtype=dtype, copy=copy)\n"
          ]
        },
        {
          "output_type": "execute_result",
          "data": {
            "text/plain": [
              "matrix([[list([1, 3, 6, 10]), list([2, 6, 45, 76, 46]),\n",
              "         list([1, 52, 85]), list([1.2, 5, 2])]], dtype=object)"
            ]
          },
          "metadata": {},
          "execution_count": 87
        }
      ]
    },
    {
      "cell_type": "code",
      "metadata": {
        "colab": {
          "base_uri": "https://localhost:8080/"
        },
        "id": "2N1Ck48_1QCl",
        "outputId": "10d55240-a7bd-4873-a35e-732633adf552"
      },
      "source": [
        "covid_stats_copy['Total Cases'].mean()   #will return the mean"
      ],
      "execution_count": 94,
      "outputs": [
        {
          "output_type": "execute_result",
          "data": {
            "text/plain": [
              "1847.2941176470588"
            ]
          },
          "metadata": {},
          "execution_count": 94
        }
      ]
    },
    {
      "cell_type": "code",
      "metadata": {
        "colab": {
          "base_uri": "https://localhost:8080/"
        },
        "id": "7VDiw00n2Sdz",
        "outputId": "350b8aa0-edac-4e5f-9489-434a8da6a565"
      },
      "source": [
        "covid_stats_copy['Total Cases'].std()  #will return the Srandard Deviation"
      ],
      "execution_count": 95,
      "outputs": [
        {
          "output_type": "execute_result",
          "data": {
            "text/plain": [
              "3855.2685205338025"
            ]
          },
          "metadata": {},
          "execution_count": 95
        }
      ]
    },
    {
      "cell_type": "code",
      "metadata": {
        "colab": {
          "base_uri": "https://localhost:8080/"
        },
        "id": "k4WQsQQU3PZ6",
        "outputId": "30c6c875-87a8-4874-833b-e20d50f0ea26"
      },
      "source": [
        "covid_stats_copy['Total Cases'].var()    # Will retun the Varience"
      ],
      "execution_count": 96,
      "outputs": [
        {
          "output_type": "execute_result",
          "data": {
            "text/plain": [
              "14863095.365418896"
            ]
          },
          "metadata": {},
          "execution_count": 96
        }
      ]
    },
    {
      "cell_type": "code",
      "metadata": {
        "id": "HZj9f1SP3rhH"
      },
      "source": [
        "# to learn more on Numpy please visit : https://numpy.org/doc/stable/"
      ],
      "execution_count": 97,
      "outputs": []
    },
    {
      "cell_type": "code",
      "metadata": {
        "id": "46MH23fA4A21"
      },
      "source": [
        ""
      ],
      "execution_count": null,
      "outputs": []
    }
  ]
}