{
  "nbformat": 4,
  "nbformat_minor": 0,
  "metadata": {
    "colab": {
      "name": "Numpy_practice.ipynb",
      "provenance": [],
      "collapsed_sections": [],
      "authorship_tag": "ABX9TyNHFwR1ft5LYc/IXrzpoOaG",
      "include_colab_link": true
    },
    "kernelspec": {
      "name": "python3",
      "display_name": "Python 3"
    },
    "language_info": {
      "name": "python"
    }
  },
  "cells": [
    {
      "cell_type": "markdown",
      "metadata": {
        "id": "view-in-github",
        "colab_type": "text"
      },
      "source": [
        "<a href=\"https://colab.research.google.com/github/akhil-gali/dataScience_practice/blob/main/Numpy_practice.ipynb\" target=\"_parent\"><img src=\"https://colab.research.google.com/assets/colab-badge.svg\" alt=\"Open In Colab\"/></a>"
      ]
    },
    {
      "cell_type": "code",
      "metadata": {
        "colab": {
          "base_uri": "https://localhost:8080/"
        },
        "id": "Ojem_9QvVrft",
        "outputId": "ef7ba31d-28fa-4768-9206-2ce25d225677"
      },
      "source": [
        "!pip install numpy"
      ],
      "execution_count": null,
      "outputs": [
        {
          "output_type": "stream",
          "name": "stdout",
          "text": [
            "Requirement already satisfied: numpy in /usr/local/lib/python3.7/dist-packages (1.19.5)\n"
          ]
        }
      ]
    },
    {
      "cell_type": "markdown",
      "metadata": {
        "id": "d2yQz3TKXh2z"
      },
      "source": [
        "#Create one dimensional Array in Numpy"
      ]
    },
    {
      "cell_type": "code",
      "metadata": {
        "id": "Byt83FDlV0KL"
      },
      "source": [
        "import numpy as np   #inporting numpy Library"
      ],
      "execution_count": null,
      "outputs": []
    },
    {
      "cell_type": "code",
      "metadata": {
        "colab": {
          "base_uri": "https://localhost:8080/"
        },
        "id": "LCvNRCnsWB--",
        "outputId": "36511539-9a33-48e2-eaee-1e2ea9acd3be"
      },
      "source": [
        "my_list = [1,2,3]\n",
        "n = np.array(my_list)\n",
        "n"
      ],
      "execution_count": null,
      "outputs": [
        {
          "output_type": "execute_result",
          "data": {
            "text/plain": [
              "array([1, 2, 3])"
            ]
          },
          "metadata": {},
          "execution_count": 4
        }
      ]
    },
    {
      "cell_type": "code",
      "metadata": {
        "colab": {
          "base_uri": "https://localhost:8080/"
        },
        "id": "qRK6zgtnXREy",
        "outputId": "9d020cdc-c577-4a2c-c852-2c54a458e2f2"
      },
      "source": [
        "type(my_list)   # type method gives the type of given variable"
      ],
      "execution_count": null,
      "outputs": [
        {
          "output_type": "execute_result",
          "data": {
            "text/plain": [
              "list"
            ]
          },
          "metadata": {},
          "execution_count": 6
        }
      ]
    },
    {
      "cell_type": "code",
      "metadata": {
        "colab": {
          "base_uri": "https://localhost:8080/"
        },
        "id": "HGUMftq_W1eE",
        "outputId": "164143a1-b174-4174-8904-f9cbf7123dae"
      },
      "source": [
        "type(n)    # type method gives the type of given variable"
      ],
      "execution_count": null,
      "outputs": [
        {
          "output_type": "execute_result",
          "data": {
            "text/plain": [
              "numpy.ndarray"
            ]
          },
          "metadata": {},
          "execution_count": 5
        }
      ]
    },
    {
      "cell_type": "markdown",
      "metadata": {
        "id": "Hjgg1K23X3qo"
      },
      "source": [
        "# Creating Multidimesional Array"
      ]
    },
    {
      "cell_type": "code",
      "metadata": {
        "colab": {
          "base_uri": "https://localhost:8080/"
        },
        "id": "4WTJc0bsXxyR",
        "outputId": "a2a76897-20db-4ad4-d3d0-4b6c26bb5f4a"
      },
      "source": [
        "my_list2 = [[1,2,3],[4,5,6],[7,8,9]]\n",
        "md = np.array(my_list2)\n",
        "md"
      ],
      "execution_count": null,
      "outputs": [
        {
          "output_type": "execute_result",
          "data": {
            "text/plain": [
              "array([[1, 2, 3],\n",
              "       [4, 5, 6],\n",
              "       [7, 8, 9]])"
            ]
          },
          "metadata": {},
          "execution_count": 8
        }
      ]
    },
    {
      "cell_type": "code",
      "metadata": {
        "colab": {
          "base_uri": "https://localhost:8080/"
        },
        "id": "lPgUNhI7YUQH",
        "outputId": "f6f95311-e3cd-4963-bfa5-f47a2cc3282d"
      },
      "source": [
        "print(md)"
      ],
      "execution_count": null,
      "outputs": [
        {
          "output_type": "stream",
          "name": "stdout",
          "text": [
            "[[1 2 3]\n",
            " [4 5 6]\n",
            " [7 8 9]]\n"
          ]
        }
      ]
    },
    {
      "cell_type": "code",
      "metadata": {
        "colab": {
          "base_uri": "https://localhost:8080/"
        },
        "id": "TONqgciCYXD0",
        "outputId": "1c120c02-3771-479c-c9f9-3e7579d47fb9"
      },
      "source": [
        "type(md)  # type method gives the type of given variable"
      ],
      "execution_count": null,
      "outputs": [
        {
          "output_type": "execute_result",
          "data": {
            "text/plain": [
              "numpy.ndarray"
            ]
          },
          "metadata": {},
          "execution_count": 10
        }
      ]
    },
    {
      "cell_type": "code",
      "metadata": {
        "colab": {
          "base_uri": "https://localhost:8080/"
        },
        "id": "wXlylBV8YaQp",
        "outputId": "b635800f-b136-4091-eb50-d4dece86de44"
      },
      "source": [
        "md.shape # Shape method is used to return the shape of the array.."
      ],
      "execution_count": null,
      "outputs": [
        {
          "output_type": "execute_result",
          "data": {
            "text/plain": [
              "(3, 3)"
            ]
          },
          "metadata": {},
          "execution_count": 12
        }
      ]
    },
    {
      "cell_type": "markdown",
      "metadata": {
        "id": "wIbIQpfoajOJ"
      },
      "source": [
        "#Generating Evenly Spaced values within the Given Limit"
      ]
    },
    {
      "cell_type": "code",
      "metadata": {
        "colab": {
          "base_uri": "https://localhost:8080/"
        },
        "id": "3sHx3caWYjVZ",
        "outputId": "a7320276-9c12-4f63-f721-afed48837add"
      },
      "source": [
        "np.arange(0,10)  # gives array of numbers start from \"0\" till \"9\" excluding the last digit"
      ],
      "execution_count": null,
      "outputs": [
        {
          "output_type": "execute_result",
          "data": {
            "text/plain": [
              "array([0, 1, 2, 3, 4, 5, 6, 7, 8, 9])"
            ]
          },
          "metadata": {},
          "execution_count": 13
        }
      ]
    },
    {
      "cell_type": "code",
      "metadata": {
        "colab": {
          "base_uri": "https://localhost:8080/"
        },
        "id": "xhQIz9SoaGqi",
        "outputId": "1ae74515-4b19-45df-8fed-8152c9db566d"
      },
      "source": [
        "np.arange(20)  #if start number doesn't mention, Np will generate starting from "
      ],
      "execution_count": null,
      "outputs": [
        {
          "output_type": "execute_result",
          "data": {
            "text/plain": [
              "array([ 0,  1,  2,  3,  4,  5,  6,  7,  8,  9, 10, 11, 12, 13, 14, 15, 16,\n",
              "       17, 18, 19])"
            ]
          },
          "metadata": {},
          "execution_count": 15
        }
      ]
    },
    {
      "cell_type": "code",
      "metadata": {
        "colab": {
          "base_uri": "https://localhost:8080/"
        },
        "id": "f9ktfJUTabDX",
        "outputId": "a4a5a653-3c71-4bee-c21d-359a1781da0f"
      },
      "source": [
        "np.arange(0,20,3) #will generate numbers from \"0\" to \"20\" with interval of \"3\""
      ],
      "execution_count": null,
      "outputs": [
        {
          "output_type": "execute_result",
          "data": {
            "text/plain": [
              "array([ 0,  3,  6,  9, 12, 15, 18])"
            ]
          },
          "metadata": {},
          "execution_count": 16
        }
      ]
    },
    {
      "cell_type": "code",
      "metadata": {
        "colab": {
          "base_uri": "https://localhost:8080/"
        },
        "id": "7wiYHpmobM44",
        "outputId": "1041b966-3c3b-4906-ac2c-0541397ba8d5"
      },
      "source": [
        "for i in range(1,11,2):\n",
        "  print(i)                    #printing the Number"
      ],
      "execution_count": null,
      "outputs": [
        {
          "output_type": "stream",
          "name": "stdout",
          "text": [
            "1\n",
            "3\n",
            "5\n",
            "7\n",
            "9\n"
          ]
        }
      ]
    },
    {
      "cell_type": "code",
      "metadata": {
        "colab": {
          "base_uri": "https://localhost:8080/"
        },
        "id": "9gVOSYheb7E6",
        "outputId": "aff8a8c7-7d25-417c-82c4-d684cb6cd882"
      },
      "source": [
        "for i in np.arange(1,12,2):\n",
        "  print(np.arange(i,12,2))            #Printing the Array"
      ],
      "execution_count": null,
      "outputs": [
        {
          "output_type": "stream",
          "name": "stdout",
          "text": [
            "[ 1  3  5  7  9 11]\n",
            "[ 3  5  7  9 11]\n",
            "[ 5  7  9 11]\n",
            "[ 7  9 11]\n",
            "[ 9 11]\n",
            "[11]\n"
          ]
        }
      ]
    },
    {
      "cell_type": "code",
      "metadata": {
        "id": "BSTqI91AcIN6"
      },
      "source": [
        ""
      ],
      "execution_count": null,
      "outputs": []
    }
  ]
}