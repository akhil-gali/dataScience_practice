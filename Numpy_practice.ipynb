{
  "nbformat": 4,
  "nbformat_minor": 0,
  "metadata": {
    "colab": {
      "name": "Numpy_practice.ipynb",
      "provenance": [],
      "collapsed_sections": [],
      "authorship_tag": "ABX9TyPqH/vMwIVClVD/SmlGUNB6",
      "include_colab_link": true
    },
    "kernelspec": {
      "name": "python3",
      "display_name": "Python 3"
    },
    "language_info": {
      "name": "python"
    }
  },
  "cells": [
    {
      "cell_type": "markdown",
      "metadata": {
        "id": "view-in-github",
        "colab_type": "text"
      },
      "source": [
        "<a href=\"https://colab.research.google.com/github/akhil-gali/dataScience_practice/blob/main/Numpy_practice.ipynb\" target=\"_parent\"><img src=\"https://colab.research.google.com/assets/colab-badge.svg\" alt=\"Open In Colab\"/></a>"
      ]
    },
    {
      "cell_type": "code",
      "metadata": {
        "colab": {
          "base_uri": "https://localhost:8080/"
        },
        "id": "Ojem_9QvVrft",
        "outputId": "ec9e6e2b-4998-4ffb-8052-9ed769812911"
      },
      "source": [
        "!pip install numpy"
      ],
      "execution_count": null,
      "outputs": [
        {
          "output_type": "stream",
          "name": "stdout",
          "text": [
            "Requirement already satisfied: numpy in /usr/local/lib/python3.7/dist-packages (1.19.5)\n"
          ]
        }
      ]
    },
    {
      "cell_type": "markdown",
      "metadata": {
        "id": "d2yQz3TKXh2z"
      },
      "source": [
        "#Create one dimensional Array in Numpy"
      ]
    },
    {
      "cell_type": "code",
      "metadata": {
        "id": "Byt83FDlV0KL"
      },
      "source": [
        "import numpy as np   #inporting numpy Library"
      ],
      "execution_count": null,
      "outputs": []
    },
    {
      "cell_type": "code",
      "metadata": {
        "colab": {
          "base_uri": "https://localhost:8080/"
        },
        "id": "LCvNRCnsWB--",
        "outputId": "61af6414-ce48-438c-e9cb-16a499ea9b0c"
      },
      "source": [
        "my_list = [1,2,3]\n",
        "n = np.array(my_list)\n",
        "n"
      ],
      "execution_count": null,
      "outputs": [
        {
          "output_type": "execute_result",
          "data": {
            "text/plain": [
              "array([1, 2, 3])"
            ]
          },
          "metadata": {},
          "execution_count": 3
        }
      ]
    },
    {
      "cell_type": "code",
      "metadata": {
        "colab": {
          "base_uri": "https://localhost:8080/"
        },
        "id": "qRK6zgtnXREy",
        "outputId": "ff9836b5-e589-40ae-b34a-2dac36553134"
      },
      "source": [
        "type(my_list)   # type method gives the type of given variable"
      ],
      "execution_count": null,
      "outputs": [
        {
          "output_type": "execute_result",
          "data": {
            "text/plain": [
              "list"
            ]
          },
          "metadata": {},
          "execution_count": 4
        }
      ]
    },
    {
      "cell_type": "code",
      "metadata": {
        "colab": {
          "base_uri": "https://localhost:8080/"
        },
        "id": "HGUMftq_W1eE",
        "outputId": "513108dd-652a-4e10-9055-e27801c6120d"
      },
      "source": [
        "type(n)    # type method gives the type of given variable"
      ],
      "execution_count": null,
      "outputs": [
        {
          "output_type": "execute_result",
          "data": {
            "text/plain": [
              "numpy.ndarray"
            ]
          },
          "metadata": {},
          "execution_count": 5
        }
      ]
    },
    {
      "cell_type": "markdown",
      "metadata": {
        "id": "Hjgg1K23X3qo"
      },
      "source": [
        "# Creating Multidimesional Array"
      ]
    },
    {
      "cell_type": "code",
      "metadata": {
        "colab": {
          "base_uri": "https://localhost:8080/"
        },
        "id": "4WTJc0bsXxyR",
        "outputId": "8bba49a6-c57d-4ad9-ee6a-5f0549422cad"
      },
      "source": [
        "my_list2 = [[1,2,3],[4,5,6],[7,8,9]]\n",
        "md = np.array(my_list2)\n",
        "md"
      ],
      "execution_count": null,
      "outputs": [
        {
          "output_type": "execute_result",
          "data": {
            "text/plain": [
              "array([[1, 2, 3],\n",
              "       [4, 5, 6],\n",
              "       [7, 8, 9]])"
            ]
          },
          "metadata": {},
          "execution_count": 6
        }
      ]
    },
    {
      "cell_type": "code",
      "metadata": {
        "colab": {
          "base_uri": "https://localhost:8080/"
        },
        "id": "lPgUNhI7YUQH",
        "outputId": "4e1af843-4ec9-4c7c-94b6-913ad2fc1210"
      },
      "source": [
        "print(md)"
      ],
      "execution_count": null,
      "outputs": [
        {
          "output_type": "stream",
          "name": "stdout",
          "text": [
            "[[1 2 3]\n",
            " [4 5 6]\n",
            " [7 8 9]]\n"
          ]
        }
      ]
    },
    {
      "cell_type": "code",
      "metadata": {
        "colab": {
          "base_uri": "https://localhost:8080/"
        },
        "id": "TONqgciCYXD0",
        "outputId": "a8674f35-2525-41dc-c065-a17e089ce54f"
      },
      "source": [
        "type(md)  # type method gives the type of given variable"
      ],
      "execution_count": null,
      "outputs": [
        {
          "output_type": "execute_result",
          "data": {
            "text/plain": [
              "numpy.ndarray"
            ]
          },
          "metadata": {},
          "execution_count": 8
        }
      ]
    },
    {
      "cell_type": "code",
      "metadata": {
        "colab": {
          "base_uri": "https://localhost:8080/"
        },
        "id": "wXlylBV8YaQp",
        "outputId": "c159281d-a607-4b3e-8445-3a5f50a24a65"
      },
      "source": [
        "md.shape # Shape method is used to return the shape of the array.."
      ],
      "execution_count": null,
      "outputs": [
        {
          "output_type": "execute_result",
          "data": {
            "text/plain": [
              "(3, 3)"
            ]
          },
          "metadata": {},
          "execution_count": 9
        }
      ]
    },
    {
      "cell_type": "markdown",
      "metadata": {
        "id": "wIbIQpfoajOJ"
      },
      "source": [
        "#Generating Evenly Spaced values within the Given Limit"
      ]
    },
    {
      "cell_type": "code",
      "metadata": {
        "colab": {
          "base_uri": "https://localhost:8080/"
        },
        "id": "3sHx3caWYjVZ",
        "outputId": "ef3e4b67-3c72-47be-f02d-7da3a316b077"
      },
      "source": [
        "np.arange(0,10)  # gives array of numbers (int type) start from \"0\" till \"9\" excluding the last digit"
      ],
      "execution_count": null,
      "outputs": [
        {
          "output_type": "execute_result",
          "data": {
            "text/plain": [
              "array([0, 1, 2, 3, 4, 5, 6, 7, 8, 9])"
            ]
          },
          "metadata": {},
          "execution_count": 10
        }
      ]
    },
    {
      "cell_type": "code",
      "metadata": {
        "colab": {
          "base_uri": "https://localhost:8080/"
        },
        "id": "xhQIz9SoaGqi",
        "outputId": "e295539d-ed82-4ed5-b52f-ea820c04ceb3"
      },
      "source": [
        "np.arange(20)  #if start number doesn't mention, Np will generate starting from "
      ],
      "execution_count": null,
      "outputs": [
        {
          "output_type": "execute_result",
          "data": {
            "text/plain": [
              "array([ 0,  1,  2,  3,  4,  5,  6,  7,  8,  9, 10, 11, 12, 13, 14, 15, 16,\n",
              "       17, 18, 19])"
            ]
          },
          "metadata": {},
          "execution_count": 11
        }
      ]
    },
    {
      "cell_type": "code",
      "metadata": {
        "colab": {
          "base_uri": "https://localhost:8080/"
        },
        "id": "f9ktfJUTabDX",
        "outputId": "0fc06703-5fd6-4c1d-9941-f2edd3bf7810"
      },
      "source": [
        "np.arange(0,20,3) #will generate numbers from \"0\" to \"20\" with interval of \"3\""
      ],
      "execution_count": null,
      "outputs": [
        {
          "output_type": "execute_result",
          "data": {
            "text/plain": [
              "array([ 0,  3,  6,  9, 12, 15, 18])"
            ]
          },
          "metadata": {},
          "execution_count": 12
        }
      ]
    },
    {
      "cell_type": "code",
      "metadata": {
        "colab": {
          "base_uri": "https://localhost:8080/"
        },
        "id": "7wiYHpmobM44",
        "outputId": "05450b7f-2ab8-4d6c-b569-2b1fec8435a9"
      },
      "source": [
        "for i in range(1,11,2):\n",
        "  print(i)                    #printing the Number"
      ],
      "execution_count": null,
      "outputs": [
        {
          "output_type": "stream",
          "name": "stdout",
          "text": [
            "1\n",
            "3\n",
            "5\n",
            "7\n",
            "9\n"
          ]
        }
      ]
    },
    {
      "cell_type": "code",
      "metadata": {
        "id": "9gVOSYheb7E6",
        "colab": {
          "base_uri": "https://localhost:8080/"
        },
        "outputId": "f27096fc-edeb-488a-f68e-aebd9378c373"
      },
      "source": [
        "for i in np.arange(1,12,2):\n",
        "  new_array = np.array(np.arange(i,12,2))\n",
        "  print(new_array)        #Printing the Array"
      ],
      "execution_count": null,
      "outputs": [
        {
          "output_type": "stream",
          "name": "stdout",
          "text": [
            "[ 1  3  5  7  9 11]\n",
            "[ 3  5  7  9 11]\n",
            "[ 5  7  9 11]\n",
            "[ 7  9 11]\n",
            "[ 9 11]\n",
            "[11]\n"
          ]
        }
      ]
    },
    {
      "cell_type": "code",
      "metadata": {
        "id": "BSTqI91AcIN6",
        "colab": {
          "base_uri": "https://localhost:8080/"
        },
        "outputId": "24e92749-da29-471e-f125-5042e7dea607"
      },
      "source": [
        "zero_array = np.zeros((5,6))     #for writing Zero array and shape we use double braces like((5,6)) in the example\n",
        "print(zero_array)                #for 1 dimensional Array we can write like np.zeros(100) which will return 100 zeros "
      ],
      "execution_count": null,
      "outputs": [
        {
          "output_type": "stream",
          "name": "stdout",
          "text": [
            "[[0. 0. 0. 0. 0. 0.]\n",
            " [0. 0. 0. 0. 0. 0.]\n",
            " [0. 0. 0. 0. 0. 0.]\n",
            " [0. 0. 0. 0. 0. 0.]\n",
            " [0. 0. 0. 0. 0. 0.]]\n"
          ]
        }
      ]
    },
    {
      "cell_type": "code",
      "metadata": {
        "id": "XU0f2e780Z0p",
        "colab": {
          "base_uri": "https://localhost:8080/"
        },
        "outputId": "f1346991-0838-40e5-a281-372b8b7fc641"
      },
      "source": [
        "zero_array.reshape(6,5)             #for reshaping no need of Double braces"
      ],
      "execution_count": null,
      "outputs": [
        {
          "output_type": "execute_result",
          "data": {
            "text/plain": [
              "array([[0., 0., 0., 0., 0.],\n",
              "       [0., 0., 0., 0., 0.],\n",
              "       [0., 0., 0., 0., 0.],\n",
              "       [0., 0., 0., 0., 0.],\n",
              "       [0., 0., 0., 0., 0.],\n",
              "       [0., 0., 0., 0., 0.]])"
            ]
          },
          "metadata": {},
          "execution_count": 16
        }
      ]
    },
    {
      "cell_type": "code",
      "metadata": {
        "colab": {
          "base_uri": "https://localhost:8080/"
        },
        "id": "XdNeLU3nc0q0",
        "outputId": "4278a729-2a16-4193-f4ff-0d0e7d55b417"
      },
      "source": [
        "zero_array                #the reshape function doesn't change the actual number of rows and columns"
      ],
      "execution_count": null,
      "outputs": [
        {
          "output_type": "execute_result",
          "data": {
            "text/plain": [
              "array([[0., 0., 0., 0., 0., 0.],\n",
              "       [0., 0., 0., 0., 0., 0.],\n",
              "       [0., 0., 0., 0., 0., 0.],\n",
              "       [0., 0., 0., 0., 0., 0.],\n",
              "       [0., 0., 0., 0., 0., 0.]])"
            ]
          },
          "metadata": {},
          "execution_count": 17
        }
      ]
    },
    {
      "cell_type": "code",
      "metadata": {
        "colab": {
          "base_uri": "https://localhost:8080/"
        },
        "id": "0NG0DYzLc3I-",
        "outputId": "434bacfb-fae7-4764-f4d7-98d29eb375ea"
      },
      "source": [
        "ones_array = np.ones((4,8))    #same as zeros\n",
        "ones_array"
      ],
      "execution_count": null,
      "outputs": [
        {
          "output_type": "execute_result",
          "data": {
            "text/plain": [
              "array([[1., 1., 1., 1., 1., 1., 1., 1.],\n",
              "       [1., 1., 1., 1., 1., 1., 1., 1.],\n",
              "       [1., 1., 1., 1., 1., 1., 1., 1.],\n",
              "       [1., 1., 1., 1., 1., 1., 1., 1.]])"
            ]
          },
          "metadata": {},
          "execution_count": 18
        }
      ]
    },
    {
      "cell_type": "code",
      "metadata": {
        "colab": {
          "base_uri": "https://localhost:8080/"
        },
        "id": "46KtKiMxe6ef",
        "outputId": "4d728ffa-0fb6-422c-bdee-7b600811da42"
      },
      "source": [
        "ones_array.reshape(8,4)   #same as zeros"
      ],
      "execution_count": null,
      "outputs": [
        {
          "output_type": "execute_result",
          "data": {
            "text/plain": [
              "array([[1., 1., 1., 1.],\n",
              "       [1., 1., 1., 1.],\n",
              "       [1., 1., 1., 1.],\n",
              "       [1., 1., 1., 1.],\n",
              "       [1., 1., 1., 1.],\n",
              "       [1., 1., 1., 1.],\n",
              "       [1., 1., 1., 1.],\n",
              "       [1., 1., 1., 1.]])"
            ]
          },
          "metadata": {},
          "execution_count": 19
        }
      ]
    },
    {
      "cell_type": "code",
      "metadata": {
        "colab": {
          "base_uri": "https://localhost:8080/"
        },
        "id": "B2pJYq-7fCT_",
        "outputId": "649df543-db26-412d-f488-2cc61393d25a"
      },
      "source": [
        "ones_array            #columns and rows doesn't change as zeros function"
      ],
      "execution_count": null,
      "outputs": [
        {
          "output_type": "execute_result",
          "data": {
            "text/plain": [
              "array([[1., 1., 1., 1., 1., 1., 1., 1.],\n",
              "       [1., 1., 1., 1., 1., 1., 1., 1.],\n",
              "       [1., 1., 1., 1., 1., 1., 1., 1.],\n",
              "       [1., 1., 1., 1., 1., 1., 1., 1.]])"
            ]
          },
          "metadata": {},
          "execution_count": 20
        }
      ]
    },
    {
      "cell_type": "code",
      "metadata": {
        "colab": {
          "base_uri": "https://localhost:8080/"
        },
        "id": "2kRMbjfDfRoS",
        "outputId": "418b72f8-a598-4670-f951-1da5f428a6d7"
      },
      "source": [
        "identity_array = np.eye(10)   #will give \n",
        "identity_array"
      ],
      "execution_count": null,
      "outputs": [
        {
          "output_type": "execute_result",
          "data": {
            "text/plain": [
              "array([[1., 0., 0., 0., 0., 0., 0., 0., 0., 0.],\n",
              "       [0., 1., 0., 0., 0., 0., 0., 0., 0., 0.],\n",
              "       [0., 0., 1., 0., 0., 0., 0., 0., 0., 0.],\n",
              "       [0., 0., 0., 1., 0., 0., 0., 0., 0., 0.],\n",
              "       [0., 0., 0., 0., 1., 0., 0., 0., 0., 0.],\n",
              "       [0., 0., 0., 0., 0., 1., 0., 0., 0., 0.],\n",
              "       [0., 0., 0., 0., 0., 0., 1., 0., 0., 0.],\n",
              "       [0., 0., 0., 0., 0., 0., 0., 1., 0., 0.],\n",
              "       [0., 0., 0., 0., 0., 0., 0., 0., 1., 0.],\n",
              "       [0., 0., 0., 0., 0., 0., 0., 0., 0., 1.]])"
            ]
          },
          "metadata": {},
          "execution_count": 21
        }
      ]
    },
    {
      "cell_type": "code",
      "metadata": {
        "colab": {
          "base_uri": "https://localhost:8080/"
        },
        "id": "yTnZIDwjflHr",
        "outputId": "80ba6076-99ba-4ff6-c9eb-43dbd596946d"
      },
      "source": [
        "O= np.linspace(0,50,8) #Linspace function returns 3rd parameter(6) evenly spaced float Values start from 1st parameter to 2nd parameter\n",
        "O                      # linspace includes first and last values."
      ],
      "execution_count": null,
      "outputs": [
        {
          "output_type": "execute_result",
          "data": {
            "text/plain": [
              "array([ 0.        ,  7.14285714, 14.28571429, 21.42857143, 28.57142857,\n",
              "       35.71428571, 42.85714286, 50.        ])"
            ]
          },
          "metadata": {},
          "execution_count": 22
        }
      ]
    },
    {
      "cell_type": "code",
      "metadata": {
        "colab": {
          "base_uri": "https://localhost:8080/"
        },
        "id": "plMapVZv1Fpp",
        "outputId": "6960b8e4-ddad-4666-cc08-b54b280e741c"
      },
      "source": [
        "len(O)"
      ],
      "execution_count": null,
      "outputs": [
        {
          "output_type": "execute_result",
          "data": {
            "text/plain": [
              "8"
            ]
          },
          "metadata": {},
          "execution_count": 23
        }
      ]
    },
    {
      "cell_type": "code",
      "metadata": {
        "colab": {
          "base_uri": "https://localhost:8080/"
        },
        "id": "_eUv-teP2LtE",
        "outputId": "165ab19c-750c-441d-ee43-55e7ae40b4e4"
      },
      "source": [
        "O.resize(4,2) #resize function will Change the shape of original array..Unlike reshape Function\n",
        "O"
      ],
      "execution_count": null,
      "outputs": [
        {
          "output_type": "execute_result",
          "data": {
            "text/plain": [
              "array([[ 0.        ,  7.14285714],\n",
              "       [14.28571429, 21.42857143],\n",
              "       [28.57142857, 35.71428571],\n",
              "       [42.85714286, 50.        ]])"
            ]
          },
          "metadata": {},
          "execution_count": 24
        }
      ]
    },
    {
      "cell_type": "code",
      "metadata": {
        "colab": {
          "base_uri": "https://localhost:8080/"
        },
        "id": "_iXyi3ip2Tjp",
        "outputId": "9a6a5533-d83b-434e-bc63-0723ba953026"
      },
      "source": [
        "O"
      ],
      "execution_count": null,
      "outputs": [
        {
          "output_type": "execute_result",
          "data": {
            "text/plain": [
              "array([[ 0.        ,  7.14285714],\n",
              "       [14.28571429, 21.42857143],\n",
              "       [28.57142857, 35.71428571],\n",
              "       [42.85714286, 50.        ]])"
            ]
          },
          "metadata": {},
          "execution_count": 25
        }
      ]
    },
    {
      "cell_type": "markdown",
      "metadata": {
        "id": "-sMT5rUN4MLg"
      },
      "source": [
        "# Generating Random Values"
      ]
    },
    {
      "cell_type": "code",
      "metadata": {
        "colab": {
          "base_uri": "https://localhost:8080/"
        },
        "id": "NXmKkkOP3cJA",
        "outputId": "cf41b5c1-0832-45ea-c20b-c98bf7e9e6cf"
      },
      "source": [
        "rand_function =np.random.rand(5,5) #will generate random values in unifrom Distribution between [0,1] in given shape and generate new numbers for each time we run\n",
        "rand_function "
      ],
      "execution_count": null,
      "outputs": [
        {
          "output_type": "execute_result",
          "data": {
            "text/plain": [
              "array([[0.19232362, 0.15434386, 0.14760912, 0.64146537, 0.06909601],\n",
              "       [0.32809184, 0.32985299, 0.03637272, 0.16369047, 0.65111883],\n",
              "       [0.73154195, 0.83078869, 0.2526735 , 0.78448684, 0.80370063],\n",
              "       [0.85771504, 0.25797734, 0.30560836, 0.09274839, 0.39392271],\n",
              "       [0.94842324, 0.89256233, 0.89621693, 0.32252065, 0.05674566]])"
            ]
          },
          "metadata": {},
          "execution_count": 26
        }
      ]
    },
    {
      "cell_type": "code",
      "metadata": {
        "colab": {
          "base_uri": "https://localhost:8080/"
        },
        "id": "twMmYb5N4zGu",
        "outputId": "c949982f-8a37-4ffa-e183-f2a4bc20abeb"
      },
      "source": [
        "a=np.random.randn(5,3) # will generate random values in Standard normal distribution\n",
        "a                      # it also generates new values every time we run"
      ],
      "execution_count": null,
      "outputs": [
        {
          "output_type": "execute_result",
          "data": {
            "text/plain": [
              "array([[ 0.58564096,  0.92855289, -0.64121882],\n",
              "       [ 0.60932065,  0.92403712, -0.98567556],\n",
              "       [ 2.68035783, -0.37648399,  1.25964287],\n",
              "       [ 0.7062479 ,  0.49935829,  1.50810454],\n",
              "       [-1.74626512, -0.2968618 ,  1.68927498]])"
            ]
          },
          "metadata": {},
          "execution_count": 27
        }
      ]
    },
    {
      "cell_type": "code",
      "metadata": {
        "colab": {
          "base_uri": "https://localhost:8080/"
        },
        "id": "lc9dDWZ7OYxP",
        "outputId": "cfcfe24a-3483-4007-af06-7b3137a72eb7"
      },
      "source": [
        "#Generating 15 random numbers between 10 and 60\n",
        "randint_function=np.random.randint(6,25,15)  #generate 15 random numbers with repetion allowed and including lower limit excluding Higher limit\n",
        "randint_function"
      ],
      "execution_count": null,
      "outputs": [
        {
          "output_type": "execute_result",
          "data": {
            "text/plain": [
              "array([11,  9,  9, 23, 18, 15, 18, 10, 11, 16,  7,  6, 14, 15, 10])"
            ]
          },
          "metadata": {},
          "execution_count": 28
        }
      ]
    },
    {
      "cell_type": "code",
      "metadata": {
        "colab": {
          "base_uri": "https://localhost:8080/"
        },
        "id": "zzPjt2KVQvIq",
        "outputId": "a1d3fabb-c048-4aea-a0e6-fc96a8d65c9d"
      },
      "source": [
        "randint_function.reshape(5,3)"
      ],
      "execution_count": null,
      "outputs": [
        {
          "output_type": "execute_result",
          "data": {
            "text/plain": [
              "array([[11,  9,  9],\n",
              "       [23, 18, 15],\n",
              "       [18, 10, 11],\n",
              "       [16,  7,  6],\n",
              "       [14, 15, 10]])"
            ]
          },
          "metadata": {},
          "execution_count": 29
        }
      ]
    },
    {
      "cell_type": "code",
      "metadata": {
        "colab": {
          "base_uri": "https://localhost:8080/"
        },
        "id": "egT1sCInR8fc",
        "outputId": "92e5be0b-ee10-4865-f8cf-ac4386e22fe4"
      },
      "source": [
        "randint_function_1 = np.random.randint(6,25,(5,3))  # we can directly define the shape as 3rd parameter\n",
        "randint_function_1"
      ],
      "execution_count": null,
      "outputs": [
        {
          "output_type": "execute_result",
          "data": {
            "text/plain": [
              "array([[17, 10, 14],\n",
              "       [22, 24, 14],\n",
              "       [18,  9,  8],\n",
              "       [ 8, 16, 16],\n",
              "       [13, 21, 20]])"
            ]
          },
          "metadata": {},
          "execution_count": 30
        }
      ]
    },
    {
      "cell_type": "markdown",
      "metadata": {
        "id": "HQr_YgodWA-r"
      },
      "source": [
        "# Indexing and Slicing"
      ]
    },
    {
      "cell_type": "code",
      "metadata": {
        "colab": {
          "base_uri": "https://localhost:8080/"
        },
        "id": "gxMgjCbRSKfm",
        "outputId": "f8d757ae-0e1d-4965-cef1-54dfe3c7f34f"
      },
      "source": [
        "p = np.random.randint(0,15,8)\n",
        "p"
      ],
      "execution_count": null,
      "outputs": [
        {
          "output_type": "execute_result",
          "data": {
            "text/plain": [
              "array([ 8,  5,  5,  4,  0,  4, 11,  9])"
            ]
          },
          "metadata": {},
          "execution_count": 31
        }
      ]
    },
    {
      "cell_type": "code",
      "metadata": {
        "colab": {
          "base_uri": "https://localhost:8080/"
        },
        "id": "8mNYcqIkWSCC",
        "outputId": "816833c2-a02b-4809-85a6-39912a5dad5c"
      },
      "source": [
        "p[0] #will return value at zero index"
      ],
      "execution_count": null,
      "outputs": [
        {
          "output_type": "execute_result",
          "data": {
            "text/plain": [
              "8"
            ]
          },
          "metadata": {},
          "execution_count": 32
        }
      ]
    },
    {
      "cell_type": "code",
      "metadata": {
        "colab": {
          "base_uri": "https://localhost:8080/"
        },
        "id": "OBopeWZwWZOc",
        "outputId": "1a0cadfb-b374-4f23-903e-68f368fbcab9"
      },
      "source": [
        "p[-3] # will return the value which is in third place from Last. negative indexing starts from -1,-2,-3,-4...."
      ],
      "execution_count": null,
      "outputs": [
        {
          "output_type": "execute_result",
          "data": {
            "text/plain": [
              "4"
            ]
          },
          "metadata": {},
          "execution_count": 33
        }
      ]
    },
    {
      "cell_type": "code",
      "metadata": {
        "colab": {
          "base_uri": "https://localhost:8080/"
        },
        "id": "0GUTVZsGWuIe",
        "outputId": "b1bb1d91-c526-4dff-cad2-5573df7bc7dd"
      },
      "source": [
        "p[2:8] #will return set of values start from 2 index till 8 and doesnot include 8 index value"
      ],
      "execution_count": null,
      "outputs": [
        {
          "output_type": "execute_result",
          "data": {
            "text/plain": [
              "array([ 5,  4,  0,  4, 11,  9])"
            ]
          },
          "metadata": {},
          "execution_count": 34
        }
      ]
    },
    {
      "cell_type": "code",
      "metadata": {
        "colab": {
          "base_uri": "https://localhost:8080/"
        },
        "id": "q0oYp7OjW8QR",
        "outputId": "aeebff5a-03e4-4482-8913-bdf79d572cc8"
      },
      "source": [
        "p[1:-4] #slicing includes negative indexing and does not include value of last index va;ue"
      ],
      "execution_count": null,
      "outputs": [
        {
          "output_type": "execute_result",
          "data": {
            "text/plain": [
              "array([5, 5, 4])"
            ]
          },
          "metadata": {},
          "execution_count": 35
        }
      ]
    },
    {
      "cell_type": "code",
      "metadata": {
        "colab": {
          "base_uri": "https://localhost:8080/"
        },
        "id": "TvQn-QLIZlTe",
        "outputId": "bdf8c33e-6af7-4026-9ebb-f581ca9f4ebd"
      },
      "source": [
        "p[3:] #will return the array start from 3 rd index till last and includes last index value"
      ],
      "execution_count": null,
      "outputs": [
        {
          "output_type": "execute_result",
          "data": {
            "text/plain": [
              "array([ 4,  0,  4, 11,  9])"
            ]
          },
          "metadata": {},
          "execution_count": 36
        }
      ]
    },
    {
      "cell_type": "code",
      "metadata": {
        "colab": {
          "base_uri": "https://localhost:8080/"
        },
        "id": "_OMRY7elZytz",
        "outputId": "e8d16bfb-733a-4403-d4d4-018579d64b51"
      },
      "source": [
        "p[:-1] # will return the array start from 0 index till -1 index excluding -1 index value"
      ],
      "execution_count": null,
      "outputs": [
        {
          "output_type": "execute_result",
          "data": {
            "text/plain": [
              "array([ 8,  5,  5,  4,  0,  4, 11])"
            ]
          },
          "metadata": {},
          "execution_count": 37
        }
      ]
    },
    {
      "cell_type": "code",
      "metadata": {
        "colab": {
          "base_uri": "https://localhost:8080/"
        },
        "id": "kJUQd4oxaCjd",
        "outputId": "9ecb67d6-66a3-47d5-a4c8-f1f455eee7d3"
      },
      "source": [
        "p[:] # will return the array fro 0 index till last index including last index value"
      ],
      "execution_count": null,
      "outputs": [
        {
          "output_type": "execute_result",
          "data": {
            "text/plain": [
              "array([ 8,  5,  5,  4,  0,  4, 11,  9])"
            ]
          },
          "metadata": {},
          "execution_count": 38
        }
      ]
    },
    {
      "cell_type": "code",
      "metadata": {
        "colab": {
          "base_uri": "https://localhost:8080/"
        },
        "id": "1Yd7e_sHXLeZ",
        "outputId": "e2b10478-1eb6-4dc7-e75a-67561596594e"
      },
      "source": [
        "var1 = np.random.randint(2,65,(5,5)) # return random integers betweeb 2(including) and 65(excluding) in (5,5) shape\n",
        "var1"
      ],
      "execution_count": null,
      "outputs": [
        {
          "output_type": "execute_result",
          "data": {
            "text/plain": [
              "array([[64, 52, 32,  8, 44],\n",
              "       [28, 25, 61, 37, 45],\n",
              "       [43, 47, 62, 57,  9],\n",
              "       [64, 64, 13, 20, 48],\n",
              "       [49, 34,  6, 49, 39]])"
            ]
          },
          "metadata": {},
          "execution_count": 39
        }
      ]
    },
    {
      "cell_type": "code",
      "metadata": {
        "colab": {
          "base_uri": "https://localhost:8080/"
        },
        "id": "0bI8KtekXeVL",
        "outputId": "509a5fe9-8b3c-405a-80b6-8acee2d62cac"
      },
      "source": [
        "var1[2] #will return array at index 2"
      ],
      "execution_count": null,
      "outputs": [
        {
          "output_type": "execute_result",
          "data": {
            "text/plain": [
              "array([43, 47, 62, 57,  9])"
            ]
          },
          "metadata": {},
          "execution_count": 40
        }
      ]
    },
    {
      "cell_type": "code",
      "metadata": {
        "colab": {
          "base_uri": "https://localhost:8080/"
        },
        "id": "1HS7uZGLXtwv",
        "outputId": "a72e1b11-5c12-4264-99f6-bd89a80d1aec"
      },
      "source": [
        "var1[2,2] #will return value at index 2 in row and 2 in column"
      ],
      "execution_count": null,
      "outputs": [
        {
          "output_type": "execute_result",
          "data": {
            "text/plain": [
              "62"
            ]
          },
          "metadata": {},
          "execution_count": 41
        }
      ]
    },
    {
      "cell_type": "code",
      "metadata": {
        "colab": {
          "base_uri": "https://localhost:8080/"
        },
        "id": "PkC8KTB5X9r1",
        "outputId": "8719e4bf-b900-441e-9427-5d2223c3f960"
      },
      "source": [
        "var1[3,[0,-1,2]] #will return array which are of 3rd indexing row  0 index value and last index value and 2 index value"
      ],
      "execution_count": null,
      "outputs": [
        {
          "output_type": "execute_result",
          "data": {
            "text/plain": [
              "array([64, 48, 13])"
            ]
          },
          "metadata": {},
          "execution_count": 42
        }
      ]
    },
    {
      "cell_type": "markdown",
      "metadata": {
        "id": "02-_VyEIb3pU"
      },
      "source": [
        "                Use \":\" symbol for selecting range\n"
      ]
    },
    {
      "cell_type": "code",
      "metadata": {
        "colab": {
          "base_uri": "https://localhost:8080/"
        },
        "id": "E5MbO8Q7avhJ",
        "outputId": "2707528b-90db-4ba9-99fb-0d4eb82d95cb"
      },
      "source": [
        "var1[3, 0:-2] #will slice the 3 rd indexed array and return array with values start from 0 index till-2 index and doesnot include -2 index value"
      ],
      "execution_count": null,
      "outputs": [
        {
          "output_type": "execute_result",
          "data": {
            "text/plain": [
              "array([64, 64, 13])"
            ]
          },
          "metadata": {},
          "execution_count": 43
        }
      ]
    },
    {
      "cell_type": "code",
      "metadata": {
        "colab": {
          "base_uri": "https://localhost:8080/"
        },
        "id": "PpNuxAejZNc_",
        "outputId": "b4232d8d-c977-4ab7-b0af-8cce20bdd1c5"
      },
      "source": [
        "var1[3, 0:3]  #will slice the 3 rd indexed array and return array with values start from 0 index till3 index and doesnot include 3 index value"
      ],
      "execution_count": null,
      "outputs": [
        {
          "output_type": "execute_result",
          "data": {
            "text/plain": [
              "array([64, 64, 13])"
            ]
          },
          "metadata": {},
          "execution_count": 44
        }
      ]
    },
    {
      "cell_type": "code",
      "metadata": {
        "colab": {
          "base_uri": "https://localhost:8080/"
        },
        "id": "qKZEE5kbass2",
        "outputId": "d3737045-f05e-4d7f-b7ba-28479e942a11"
      },
      "source": [
        "var1[2:]      #return all the rows from 2 till last "
      ],
      "execution_count": null,
      "outputs": [
        {
          "output_type": "execute_result",
          "data": {
            "text/plain": [
              "array([[43, 47, 62, 57,  9],\n",
              "       [64, 64, 13, 20, 48],\n",
              "       [49, 34,  6, 49, 39]])"
            ]
          },
          "metadata": {},
          "execution_count": 45
        }
      ]
    },
    {
      "cell_type": "code",
      "metadata": {
        "colab": {
          "base_uri": "https://localhost:8080/"
        },
        "id": "wxvtc70-cQAj",
        "outputId": "1b73b300-6f09-4f20-cb3a-0ab97bb50d8f"
      },
      "source": [
        "var1[1:,2:]     #return all the rows from 1 till last and 2 nd column till last"
      ],
      "execution_count": null,
      "outputs": [
        {
          "output_type": "execute_result",
          "data": {
            "text/plain": [
              "array([[61, 37, 45],\n",
              "       [62, 57,  9],\n",
              "       [13, 20, 48],\n",
              "       [ 6, 49, 39]])"
            ]
          },
          "metadata": {},
          "execution_count": 46
        }
      ]
    },
    {
      "cell_type": "markdown",
      "metadata": {
        "id": "kaGVNODGtQ9G"
      },
      "source": [
        "#conditional Indexing"
      ]
    },
    {
      "cell_type": "code",
      "metadata": {
        "id": "rHe4pk08ckG7",
        "colab": {
          "base_uri": "https://localhost:8080/"
        },
        "outputId": "b0f6a7e4-8c1a-4968-b146-e50a559921bc"
      },
      "source": [
        "mn = np.random.randint(0,50,50)\n",
        "mn"
      ],
      "execution_count": null,
      "outputs": [
        {
          "output_type": "execute_result",
          "data": {
            "text/plain": [
              "array([34,  9, 20,  5, 47, 27, 28,  6, 21,  2, 21,  6, 23, 47,  2, 11,  2,\n",
              "        9, 34, 48,  1,  2, 15, 35,  2,  6, 30, 22, 42, 20, 34, 46, 40, 33,\n",
              "       14, 17, 44, 44, 33, 24, 38,  7, 46, 15,  3, 15, 23, 15, 48, 38])"
            ]
          },
          "metadata": {},
          "execution_count": 49
        }
      ]
    },
    {
      "cell_type": "code",
      "metadata": {
        "colab": {
          "base_uri": "https://localhost:8080/"
        },
        "id": "d_EkV_OPtfXm",
        "outputId": "37de46c7-65a1-4db7-807e-700cc38b50f0"
      },
      "source": [
        "mn>25 # will return bollean according to condition"
      ],
      "execution_count": null,
      "outputs": [
        {
          "output_type": "execute_result",
          "data": {
            "text/plain": [
              "array([ True, False, False, False,  True,  True,  True, False, False,\n",
              "       False, False, False, False,  True, False, False, False, False,\n",
              "        True,  True, False, False, False,  True, False, False,  True,\n",
              "       False,  True, False,  True,  True,  True,  True, False, False,\n",
              "        True,  True,  True, False,  True, False,  True, False, False,\n",
              "       False, False, False,  True,  True])"
            ]
          },
          "metadata": {},
          "execution_count": 55
        }
      ]
    },
    {
      "cell_type": "code",
      "metadata": {
        "colab": {
          "base_uri": "https://localhost:8080/"
        },
        "id": "Um2HKUAIuBVW",
        "outputId": "87dc9a72-02a9-49d2-f3e6-3ec2938e8d05"
      },
      "source": [
        "mn[mn>25]   #will return the values of mn which are obeying the condition"
      ],
      "execution_count": null,
      "outputs": [
        {
          "output_type": "execute_result",
          "data": {
            "text/plain": [
              "array([34, 47, 27, 28, 47, 34, 48, 35, 30, 42, 34, 46, 40, 33, 44, 44, 33,\n",
              "       38, 46, 48, 38])"
            ]
          },
          "metadata": {},
          "execution_count": 54
        }
      ]
    },
    {
      "cell_type": "code",
      "metadata": {
        "colab": {
          "base_uri": "https://localhost:8080/"
        },
        "id": "s5MA8GO4upwg",
        "outputId": "7765f3e7-4057-4874-c5e4-7a330854bd65"
      },
      "source": [
        "mn[mn>30] = 25  #casting the value \"25\" to the values which are greater than 30\n",
        "mn"
      ],
      "execution_count": null,
      "outputs": [
        {
          "output_type": "execute_result",
          "data": {
            "text/plain": [
              "array([25,  9, 20,  5, 25, 27, 28,  6, 21,  2, 21,  6, 23, 25,  2, 11,  2,\n",
              "        9, 25, 25,  1,  2, 15, 25,  2,  6, 30, 22, 25, 20, 25, 25, 25, 25,\n",
              "       14, 17, 25, 25, 25, 24, 25,  7, 25, 15,  3, 15, 23, 15, 25, 25])"
            ]
          },
          "metadata": {},
          "execution_count": 62
        }
      ]
    },
    {
      "cell_type": "code",
      "metadata": {
        "colab": {
          "base_uri": "https://localhost:8080/"
        },
        "id": "_0VxrOwuusA2",
        "outputId": "21980d42-006f-4df0-97f4-89cc54392b11"
      },
      "source": [
        "mn.resize(10,5)\n",
        "mn"
      ],
      "execution_count": null,
      "outputs": [
        {
          "output_type": "execute_result",
          "data": {
            "text/plain": [
              "array([[25,  9, 20,  5, 25],\n",
              "       [27, 28,  6, 21,  2],\n",
              "       [21,  6, 23, 25,  2],\n",
              "       [11,  2,  9, 25, 25],\n",
              "       [ 1,  2, 15, 25,  2],\n",
              "       [ 6, 30, 22, 25, 20],\n",
              "       [25, 25, 25, 25, 14],\n",
              "       [17, 25, 25, 25, 24],\n",
              "       [25,  7, 25, 15,  3],\n",
              "       [15, 23, 15, 25, 25]])"
            ]
          },
          "metadata": {},
          "execution_count": 65
        }
      ]
    },
    {
      "cell_type": "markdown",
      "metadata": {
        "id": "JeK3fNK_xopm"
      },
      "source": [
        "#creating a copy"
      ]
    },
    {
      "cell_type": "code",
      "metadata": {
        "colab": {
          "base_uri": "https://localhost:8080/"
        },
        "id": "L-CyhDhCwqUZ",
        "outputId": "5680c7ab-9d86-4d22-aee1-bbd233292cee"
      },
      "source": [
        "mn1 = mn[3:,2:]   #creating a copy according to indexes\n",
        "mn1"
      ],
      "execution_count": null,
      "outputs": [
        {
          "output_type": "execute_result",
          "data": {
            "text/plain": [
              "array([[ 9, 25, 25],\n",
              "       [15, 25,  2],\n",
              "       [22, 25, 20],\n",
              "       [25, 25, 14],\n",
              "       [25, 25, 24],\n",
              "       [25, 15,  3],\n",
              "       [15, 25, 25]])"
            ]
          },
          "metadata": {},
          "execution_count": 67
        }
      ]
    },
    {
      "cell_type": "code",
      "metadata": {
        "id": "cRhLweovxQrr"
      },
      "source": [
        "mn_copy = mn.copy()   #copy() will copy the mn values and store them intomn_copy"
      ],
      "execution_count": null,
      "outputs": []
    },
    {
      "cell_type": "code",
      "metadata": {
        "colab": {
          "base_uri": "https://localhost:8080/"
        },
        "id": "NW4yqkWlykVM",
        "outputId": "8b8e6b2d-e74c-461d-e35d-c2135943d7f7"
      },
      "source": [
        "mn_copy"
      ],
      "execution_count": null,
      "outputs": [
        {
          "output_type": "execute_result",
          "data": {
            "text/plain": [
              "array([[25,  9, 20,  5, 25],\n",
              "       [27, 28,  6, 21,  2],\n",
              "       [21,  6, 23, 25,  2],\n",
              "       [11,  2,  9, 25, 25],\n",
              "       [ 1,  2, 15, 25,  2],\n",
              "       [ 6, 30, 22, 25, 20],\n",
              "       [25, 25, 25, 25, 14],\n",
              "       [17, 25, 25, 25, 24],\n",
              "       [25,  7, 25, 15,  3],\n",
              "       [15, 23, 15, 25, 25]])"
            ]
          },
          "metadata": {},
          "execution_count": 72
        }
      ]
    },
    {
      "cell_type": "code",
      "metadata": {
        "id": "39AFrjf7yoqO"
      },
      "source": [
        "import pandas as pd   #importing Pandas Library"
      ],
      "execution_count": null,
      "outputs": []
    },
    {
      "cell_type": "code",
      "metadata": {
        "id": "08tmEydb2qPq"
      },
      "source": [
        "covid_stats = pd.read_csv(\"/content/covid_stats.csv\") #read_csv function will read the csv file in given path"
      ],
      "execution_count": 84,
      "outputs": []
    },
    {
      "cell_type": "code",
      "metadata": {
        "id": "DpB5z9dh23kR",
        "colab": {
          "base_uri": "https://localhost:8080/",
          "height": 1000
        },
        "outputId": "8f0586b1-105c-48e9-ff37-ea3e9af8b0b6"
      },
      "source": [
        "covid_stats"
      ],
      "execution_count": 85,
      "outputs": [
        {
          "output_type": "execute_result",
          "data": {
            "text/html": [
              "<div>\n",
              "<style scoped>\n",
              "    .dataframe tbody tr th:only-of-type {\n",
              "        vertical-align: middle;\n",
              "    }\n",
              "\n",
              "    .dataframe tbody tr th {\n",
              "        vertical-align: top;\n",
              "    }\n",
              "\n",
              "    .dataframe thead th {\n",
              "        text-align: right;\n",
              "    }\n",
              "</style>\n",
              "<table border=\"1\" class=\"dataframe\">\n",
              "  <thead>\n",
              "    <tr style=\"text-align: right;\">\n",
              "      <th></th>\n",
              "      <th>State Wise Breakdown</th>\n",
              "      <th>Total Cases</th>\n",
              "      <th>Active Cases</th>\n",
              "      <th>Deaths</th>\n",
              "      <th>Cured</th>\n",
              "    </tr>\n",
              "  </thead>\n",
              "  <tbody>\n",
              "    <tr>\n",
              "      <th>0</th>\n",
              "      <td>Maharashtra</td>\n",
              "      <td>20228</td>\n",
              "      <td>15649</td>\n",
              "      <td>779</td>\n",
              "      <td>3800</td>\n",
              "    </tr>\n",
              "    <tr>\n",
              "      <th>1</th>\n",
              "      <td>Gujarat</td>\n",
              "      <td>7797</td>\n",
              "      <td>5234</td>\n",
              "      <td>472</td>\n",
              "      <td>2091</td>\n",
              "    </tr>\n",
              "    <tr>\n",
              "      <th>2</th>\n",
              "      <td>Delhi</td>\n",
              "      <td>6542</td>\n",
              "      <td>4454</td>\n",
              "      <td>68</td>\n",
              "      <td>2020</td>\n",
              "    </tr>\n",
              "    <tr>\n",
              "      <th>3</th>\n",
              "      <td>Tamil Nadu</td>\n",
              "      <td>6535</td>\n",
              "      <td>4667</td>\n",
              "      <td>44</td>\n",
              "      <td>1824</td>\n",
              "    </tr>\n",
              "    <tr>\n",
              "      <th>4</th>\n",
              "      <td>Rajasthan</td>\n",
              "      <td>3708</td>\n",
              "      <td>1440</td>\n",
              "      <td>106</td>\n",
              "      <td>2162</td>\n",
              "    </tr>\n",
              "    <tr>\n",
              "      <th>5</th>\n",
              "      <td>Madhya Pradesh</td>\n",
              "      <td>3457</td>\n",
              "      <td>1766</td>\n",
              "      <td>211</td>\n",
              "      <td>1480</td>\n",
              "    </tr>\n",
              "    <tr>\n",
              "      <th>6</th>\n",
              "      <td>Uttar Pradesh</td>\n",
              "      <td>3373</td>\n",
              "      <td>1800</td>\n",
              "      <td>74</td>\n",
              "      <td>1499</td>\n",
              "    </tr>\n",
              "    <tr>\n",
              "      <th>7</th>\n",
              "      <td>Andhra Pradesh</td>\n",
              "      <td>1930</td>\n",
              "      <td>999</td>\n",
              "      <td>44</td>\n",
              "      <td>887</td>\n",
              "    </tr>\n",
              "    <tr>\n",
              "      <th>8</th>\n",
              "      <td>West Bengal**</td>\n",
              "      <td>1786</td>\n",
              "      <td>1243</td>\n",
              "      <td>171</td>\n",
              "      <td>372</td>\n",
              "    </tr>\n",
              "    <tr>\n",
              "      <th>9</th>\n",
              "      <td>Punjab</td>\n",
              "      <td>1762</td>\n",
              "      <td>1574</td>\n",
              "      <td>31</td>\n",
              "      <td>157</td>\n",
              "    </tr>\n",
              "    <tr>\n",
              "      <th>10</th>\n",
              "      <td>Telangana</td>\n",
              "      <td>1163</td>\n",
              "      <td>382</td>\n",
              "      <td>30</td>\n",
              "      <td>751</td>\n",
              "    </tr>\n",
              "    <tr>\n",
              "      <th>11</th>\n",
              "      <td>Jammu and Kashmir</td>\n",
              "      <td>836</td>\n",
              "      <td>459</td>\n",
              "      <td>9</td>\n",
              "      <td>368</td>\n",
              "    </tr>\n",
              "    <tr>\n",
              "      <th>12</th>\n",
              "      <td>Karnataka</td>\n",
              "      <td>794</td>\n",
              "      <td>378</td>\n",
              "      <td>30</td>\n",
              "      <td>386</td>\n",
              "    </tr>\n",
              "    <tr>\n",
              "      <th>13</th>\n",
              "      <td>Haryana</td>\n",
              "      <td>675</td>\n",
              "      <td>376</td>\n",
              "      <td>9</td>\n",
              "      <td>290</td>\n",
              "    </tr>\n",
              "    <tr>\n",
              "      <th>14</th>\n",
              "      <td>Bihar</td>\n",
              "      <td>611</td>\n",
              "      <td>288</td>\n",
              "      <td>5</td>\n",
              "      <td>318</td>\n",
              "    </tr>\n",
              "    <tr>\n",
              "      <th>15</th>\n",
              "      <td>Kerala</td>\n",
              "      <td>505</td>\n",
              "      <td>16</td>\n",
              "      <td>4</td>\n",
              "      <td>485</td>\n",
              "    </tr>\n",
              "    <tr>\n",
              "      <th>16</th>\n",
              "      <td>Odisha</td>\n",
              "      <td>294</td>\n",
              "      <td>224</td>\n",
              "      <td>2</td>\n",
              "      <td>68</td>\n",
              "    </tr>\n",
              "    <tr>\n",
              "      <th>17</th>\n",
              "      <td>Chandigarh</td>\n",
              "      <td>169</td>\n",
              "      <td>143</td>\n",
              "      <td>2</td>\n",
              "      <td>24</td>\n",
              "    </tr>\n",
              "    <tr>\n",
              "      <th>18</th>\n",
              "      <td>Jharkhand</td>\n",
              "      <td>156</td>\n",
              "      <td>101</td>\n",
              "      <td>3</td>\n",
              "      <td>52</td>\n",
              "    </tr>\n",
              "    <tr>\n",
              "      <th>19</th>\n",
              "      <td>Tripura</td>\n",
              "      <td>135</td>\n",
              "      <td>133</td>\n",
              "      <td>0</td>\n",
              "      <td>2</td>\n",
              "    </tr>\n",
              "    <tr>\n",
              "      <th>20</th>\n",
              "      <td>Uttarakhand</td>\n",
              "      <td>67</td>\n",
              "      <td>20</td>\n",
              "      <td>1</td>\n",
              "      <td>46</td>\n",
              "    </tr>\n",
              "    <tr>\n",
              "      <th>21</th>\n",
              "      <td>Assam</td>\n",
              "      <td>62</td>\n",
              "      <td>26</td>\n",
              "      <td>2</td>\n",
              "      <td>34</td>\n",
              "    </tr>\n",
              "    <tr>\n",
              "      <th>22</th>\n",
              "      <td>Chhattisgarh</td>\n",
              "      <td>59</td>\n",
              "      <td>16</td>\n",
              "      <td>0</td>\n",
              "      <td>43</td>\n",
              "    </tr>\n",
              "    <tr>\n",
              "      <th>23</th>\n",
              "      <td>Himachal Pradesh‡</td>\n",
              "      <td>53</td>\n",
              "      <td>13</td>\n",
              "      <td>3</td>\n",
              "      <td>37</td>\n",
              "    </tr>\n",
              "    <tr>\n",
              "      <th>24</th>\n",
              "      <td>Ladakh</td>\n",
              "      <td>42</td>\n",
              "      <td>25</td>\n",
              "      <td>0</td>\n",
              "      <td>17</td>\n",
              "    </tr>\n",
              "    <tr>\n",
              "      <th>25</th>\n",
              "      <td>Andaman and Nicobar Islands</td>\n",
              "      <td>33</td>\n",
              "      <td>0</td>\n",
              "      <td>0</td>\n",
              "      <td>33</td>\n",
              "    </tr>\n",
              "    <tr>\n",
              "      <th>26</th>\n",
              "      <td>Meghalaya</td>\n",
              "      <td>13</td>\n",
              "      <td>2</td>\n",
              "      <td>1</td>\n",
              "      <td>10</td>\n",
              "    </tr>\n",
              "    <tr>\n",
              "      <th>27</th>\n",
              "      <td>Puducherry†</td>\n",
              "      <td>10</td>\n",
              "      <td>3</td>\n",
              "      <td>0</td>\n",
              "      <td>7</td>\n",
              "    </tr>\n",
              "    <tr>\n",
              "      <th>28</th>\n",
              "      <td>Goa</td>\n",
              "      <td>7</td>\n",
              "      <td>0</td>\n",
              "      <td>0</td>\n",
              "      <td>7</td>\n",
              "    </tr>\n",
              "    <tr>\n",
              "      <th>29</th>\n",
              "      <td>Manipur</td>\n",
              "      <td>2</td>\n",
              "      <td>0</td>\n",
              "      <td>0</td>\n",
              "      <td>2</td>\n",
              "    </tr>\n",
              "    <tr>\n",
              "      <th>30</th>\n",
              "      <td>Dadra and Nagar Haveli*</td>\n",
              "      <td>1</td>\n",
              "      <td>1</td>\n",
              "      <td>0</td>\n",
              "      <td>0</td>\n",
              "    </tr>\n",
              "    <tr>\n",
              "      <th>31</th>\n",
              "      <td>Arunachal Pradesh</td>\n",
              "      <td>1</td>\n",
              "      <td>0</td>\n",
              "      <td>0</td>\n",
              "      <td>1</td>\n",
              "    </tr>\n",
              "    <tr>\n",
              "      <th>32</th>\n",
              "      <td>Mizoram</td>\n",
              "      <td>1</td>\n",
              "      <td>0</td>\n",
              "      <td>0</td>\n",
              "      <td>1</td>\n",
              "    </tr>\n",
              "    <tr>\n",
              "      <th>33</th>\n",
              "      <td>Nagaland</td>\n",
              "      <td>1</td>\n",
              "      <td>0</td>\n",
              "      <td>0</td>\n",
              "      <td>1</td>\n",
              "    </tr>\n",
              "    <tr>\n",
              "      <th>34</th>\n",
              "      <td>Total</td>\n",
              "      <td>62808</td>\n",
              "      <td>41432</td>\n",
              "      <td>2101</td>\n",
              "      <td>19275</td>\n",
              "    </tr>\n",
              "  </tbody>\n",
              "</table>\n",
              "</div>"
            ],
            "text/plain": [
              "           State Wise Breakdown  Total Cases  Active Cases  Deaths  Cured\n",
              "0                   Maharashtra        20228         15649     779   3800\n",
              "1                       Gujarat         7797          5234     472   2091\n",
              "2                         Delhi         6542          4454      68   2020\n",
              "3                    Tamil Nadu         6535          4667      44   1824\n",
              "4                     Rajasthan         3708          1440     106   2162\n",
              "5                Madhya Pradesh         3457          1766     211   1480\n",
              "6                 Uttar Pradesh         3373          1800      74   1499\n",
              "7                Andhra Pradesh         1930           999      44    887\n",
              "8                 West Bengal**         1786          1243     171    372\n",
              "9                        Punjab         1762          1574      31    157\n",
              "10                    Telangana         1163           382      30    751\n",
              "11            Jammu and Kashmir          836           459       9    368\n",
              "12                    Karnataka          794           378      30    386\n",
              "13                      Haryana          675           376       9    290\n",
              "14                        Bihar          611           288       5    318\n",
              "15                       Kerala          505            16       4    485\n",
              "16                       Odisha          294           224       2     68\n",
              "17                   Chandigarh          169           143       2     24\n",
              "18                    Jharkhand          156           101       3     52\n",
              "19                      Tripura          135           133       0      2\n",
              "20                  Uttarakhand           67            20       1     46\n",
              "21                        Assam           62            26       2     34\n",
              "22                 Chhattisgarh           59            16       0     43\n",
              "23            Himachal Pradesh‡           53            13       3     37\n",
              "24                       Ladakh           42            25       0     17\n",
              "25  Andaman and Nicobar Islands           33             0       0     33\n",
              "26                    Meghalaya           13             2       1     10\n",
              "27                  Puducherry†           10             3       0      7\n",
              "28                          Goa            7             0       0      7\n",
              "29                      Manipur            2             0       0      2\n",
              "30      Dadra and Nagar Haveli*            1             1       0      0\n",
              "31            Arunachal Pradesh            1             0       0      1\n",
              "32                      Mizoram            1             0       0      1\n",
              "33                     Nagaland            1             0       0      1\n",
              "34                        Total        62808         41432    2101  19275"
            ]
          },
          "metadata": {},
          "execution_count": 85
        }
      ]
    },
    {
      "cell_type": "code",
      "metadata": {
        "id": "da5qtYwo4uU0"
      },
      "source": [
        "covid_stats_copy = covid_stats.copy()  #copying the csv file"
      ],
      "execution_count": 86,
      "outputs": []
    },
    {
      "cell_type": "code",
      "metadata": {
        "colab": {
          "base_uri": "https://localhost:8080/",
          "height": 1000
        },
        "id": "zCnCoTmC5Qmk",
        "outputId": "9f016dbc-e84e-4691-e4db-402cf26908a6"
      },
      "source": [
        "covid_stats_copy =covid_stats_copy[0:34]  #Removing the last row.. Ie, total row from the given csv\n",
        "covid_stats_copy"
      ],
      "execution_count": 90,
      "outputs": [
        {
          "output_type": "execute_result",
          "data": {
            "text/html": [
              "<div>\n",
              "<style scoped>\n",
              "    .dataframe tbody tr th:only-of-type {\n",
              "        vertical-align: middle;\n",
              "    }\n",
              "\n",
              "    .dataframe tbody tr th {\n",
              "        vertical-align: top;\n",
              "    }\n",
              "\n",
              "    .dataframe thead th {\n",
              "        text-align: right;\n",
              "    }\n",
              "</style>\n",
              "<table border=\"1\" class=\"dataframe\">\n",
              "  <thead>\n",
              "    <tr style=\"text-align: right;\">\n",
              "      <th></th>\n",
              "      <th>State Wise Breakdown</th>\n",
              "      <th>Total Cases</th>\n",
              "      <th>Active Cases</th>\n",
              "      <th>Deaths</th>\n",
              "      <th>Cured</th>\n",
              "    </tr>\n",
              "  </thead>\n",
              "  <tbody>\n",
              "    <tr>\n",
              "      <th>0</th>\n",
              "      <td>Maharashtra</td>\n",
              "      <td>20228</td>\n",
              "      <td>15649</td>\n",
              "      <td>779</td>\n",
              "      <td>3800</td>\n",
              "    </tr>\n",
              "    <tr>\n",
              "      <th>1</th>\n",
              "      <td>Gujarat</td>\n",
              "      <td>7797</td>\n",
              "      <td>5234</td>\n",
              "      <td>472</td>\n",
              "      <td>2091</td>\n",
              "    </tr>\n",
              "    <tr>\n",
              "      <th>2</th>\n",
              "      <td>Delhi</td>\n",
              "      <td>6542</td>\n",
              "      <td>4454</td>\n",
              "      <td>68</td>\n",
              "      <td>2020</td>\n",
              "    </tr>\n",
              "    <tr>\n",
              "      <th>3</th>\n",
              "      <td>Tamil Nadu</td>\n",
              "      <td>6535</td>\n",
              "      <td>4667</td>\n",
              "      <td>44</td>\n",
              "      <td>1824</td>\n",
              "    </tr>\n",
              "    <tr>\n",
              "      <th>4</th>\n",
              "      <td>Rajasthan</td>\n",
              "      <td>3708</td>\n",
              "      <td>1440</td>\n",
              "      <td>106</td>\n",
              "      <td>2162</td>\n",
              "    </tr>\n",
              "    <tr>\n",
              "      <th>5</th>\n",
              "      <td>Madhya Pradesh</td>\n",
              "      <td>3457</td>\n",
              "      <td>1766</td>\n",
              "      <td>211</td>\n",
              "      <td>1480</td>\n",
              "    </tr>\n",
              "    <tr>\n",
              "      <th>6</th>\n",
              "      <td>Uttar Pradesh</td>\n",
              "      <td>3373</td>\n",
              "      <td>1800</td>\n",
              "      <td>74</td>\n",
              "      <td>1499</td>\n",
              "    </tr>\n",
              "    <tr>\n",
              "      <th>7</th>\n",
              "      <td>Andhra Pradesh</td>\n",
              "      <td>1930</td>\n",
              "      <td>999</td>\n",
              "      <td>44</td>\n",
              "      <td>887</td>\n",
              "    </tr>\n",
              "    <tr>\n",
              "      <th>8</th>\n",
              "      <td>West Bengal**</td>\n",
              "      <td>1786</td>\n",
              "      <td>1243</td>\n",
              "      <td>171</td>\n",
              "      <td>372</td>\n",
              "    </tr>\n",
              "    <tr>\n",
              "      <th>9</th>\n",
              "      <td>Punjab</td>\n",
              "      <td>1762</td>\n",
              "      <td>1574</td>\n",
              "      <td>31</td>\n",
              "      <td>157</td>\n",
              "    </tr>\n",
              "    <tr>\n",
              "      <th>10</th>\n",
              "      <td>Telangana</td>\n",
              "      <td>1163</td>\n",
              "      <td>382</td>\n",
              "      <td>30</td>\n",
              "      <td>751</td>\n",
              "    </tr>\n",
              "    <tr>\n",
              "      <th>11</th>\n",
              "      <td>Jammu and Kashmir</td>\n",
              "      <td>836</td>\n",
              "      <td>459</td>\n",
              "      <td>9</td>\n",
              "      <td>368</td>\n",
              "    </tr>\n",
              "    <tr>\n",
              "      <th>12</th>\n",
              "      <td>Karnataka</td>\n",
              "      <td>794</td>\n",
              "      <td>378</td>\n",
              "      <td>30</td>\n",
              "      <td>386</td>\n",
              "    </tr>\n",
              "    <tr>\n",
              "      <th>13</th>\n",
              "      <td>Haryana</td>\n",
              "      <td>675</td>\n",
              "      <td>376</td>\n",
              "      <td>9</td>\n",
              "      <td>290</td>\n",
              "    </tr>\n",
              "    <tr>\n",
              "      <th>14</th>\n",
              "      <td>Bihar</td>\n",
              "      <td>611</td>\n",
              "      <td>288</td>\n",
              "      <td>5</td>\n",
              "      <td>318</td>\n",
              "    </tr>\n",
              "    <tr>\n",
              "      <th>15</th>\n",
              "      <td>Kerala</td>\n",
              "      <td>505</td>\n",
              "      <td>16</td>\n",
              "      <td>4</td>\n",
              "      <td>485</td>\n",
              "    </tr>\n",
              "    <tr>\n",
              "      <th>16</th>\n",
              "      <td>Odisha</td>\n",
              "      <td>294</td>\n",
              "      <td>224</td>\n",
              "      <td>2</td>\n",
              "      <td>68</td>\n",
              "    </tr>\n",
              "    <tr>\n",
              "      <th>17</th>\n",
              "      <td>Chandigarh</td>\n",
              "      <td>169</td>\n",
              "      <td>143</td>\n",
              "      <td>2</td>\n",
              "      <td>24</td>\n",
              "    </tr>\n",
              "    <tr>\n",
              "      <th>18</th>\n",
              "      <td>Jharkhand</td>\n",
              "      <td>156</td>\n",
              "      <td>101</td>\n",
              "      <td>3</td>\n",
              "      <td>52</td>\n",
              "    </tr>\n",
              "    <tr>\n",
              "      <th>19</th>\n",
              "      <td>Tripura</td>\n",
              "      <td>135</td>\n",
              "      <td>133</td>\n",
              "      <td>0</td>\n",
              "      <td>2</td>\n",
              "    </tr>\n",
              "    <tr>\n",
              "      <th>20</th>\n",
              "      <td>Uttarakhand</td>\n",
              "      <td>67</td>\n",
              "      <td>20</td>\n",
              "      <td>1</td>\n",
              "      <td>46</td>\n",
              "    </tr>\n",
              "    <tr>\n",
              "      <th>21</th>\n",
              "      <td>Assam</td>\n",
              "      <td>62</td>\n",
              "      <td>26</td>\n",
              "      <td>2</td>\n",
              "      <td>34</td>\n",
              "    </tr>\n",
              "    <tr>\n",
              "      <th>22</th>\n",
              "      <td>Chhattisgarh</td>\n",
              "      <td>59</td>\n",
              "      <td>16</td>\n",
              "      <td>0</td>\n",
              "      <td>43</td>\n",
              "    </tr>\n",
              "    <tr>\n",
              "      <th>23</th>\n",
              "      <td>Himachal Pradesh‡</td>\n",
              "      <td>53</td>\n",
              "      <td>13</td>\n",
              "      <td>3</td>\n",
              "      <td>37</td>\n",
              "    </tr>\n",
              "    <tr>\n",
              "      <th>24</th>\n",
              "      <td>Ladakh</td>\n",
              "      <td>42</td>\n",
              "      <td>25</td>\n",
              "      <td>0</td>\n",
              "      <td>17</td>\n",
              "    </tr>\n",
              "    <tr>\n",
              "      <th>25</th>\n",
              "      <td>Andaman and Nicobar Islands</td>\n",
              "      <td>33</td>\n",
              "      <td>0</td>\n",
              "      <td>0</td>\n",
              "      <td>33</td>\n",
              "    </tr>\n",
              "    <tr>\n",
              "      <th>26</th>\n",
              "      <td>Meghalaya</td>\n",
              "      <td>13</td>\n",
              "      <td>2</td>\n",
              "      <td>1</td>\n",
              "      <td>10</td>\n",
              "    </tr>\n",
              "    <tr>\n",
              "      <th>27</th>\n",
              "      <td>Puducherry†</td>\n",
              "      <td>10</td>\n",
              "      <td>3</td>\n",
              "      <td>0</td>\n",
              "      <td>7</td>\n",
              "    </tr>\n",
              "    <tr>\n",
              "      <th>28</th>\n",
              "      <td>Goa</td>\n",
              "      <td>7</td>\n",
              "      <td>0</td>\n",
              "      <td>0</td>\n",
              "      <td>7</td>\n",
              "    </tr>\n",
              "    <tr>\n",
              "      <th>29</th>\n",
              "      <td>Manipur</td>\n",
              "      <td>2</td>\n",
              "      <td>0</td>\n",
              "      <td>0</td>\n",
              "      <td>2</td>\n",
              "    </tr>\n",
              "    <tr>\n",
              "      <th>30</th>\n",
              "      <td>Dadra and Nagar Haveli*</td>\n",
              "      <td>1</td>\n",
              "      <td>1</td>\n",
              "      <td>0</td>\n",
              "      <td>0</td>\n",
              "    </tr>\n",
              "    <tr>\n",
              "      <th>31</th>\n",
              "      <td>Arunachal Pradesh</td>\n",
              "      <td>1</td>\n",
              "      <td>0</td>\n",
              "      <td>0</td>\n",
              "      <td>1</td>\n",
              "    </tr>\n",
              "    <tr>\n",
              "      <th>32</th>\n",
              "      <td>Mizoram</td>\n",
              "      <td>1</td>\n",
              "      <td>0</td>\n",
              "      <td>0</td>\n",
              "      <td>1</td>\n",
              "    </tr>\n",
              "    <tr>\n",
              "      <th>33</th>\n",
              "      <td>Nagaland</td>\n",
              "      <td>1</td>\n",
              "      <td>0</td>\n",
              "      <td>0</td>\n",
              "      <td>1</td>\n",
              "    </tr>\n",
              "  </tbody>\n",
              "</table>\n",
              "</div>"
            ],
            "text/plain": [
              "           State Wise Breakdown  Total Cases  Active Cases  Deaths  Cured\n",
              "0                   Maharashtra        20228         15649     779   3800\n",
              "1                       Gujarat         7797          5234     472   2091\n",
              "2                         Delhi         6542          4454      68   2020\n",
              "3                    Tamil Nadu         6535          4667      44   1824\n",
              "4                     Rajasthan         3708          1440     106   2162\n",
              "5                Madhya Pradesh         3457          1766     211   1480\n",
              "6                 Uttar Pradesh         3373          1800      74   1499\n",
              "7                Andhra Pradesh         1930           999      44    887\n",
              "8                 West Bengal**         1786          1243     171    372\n",
              "9                        Punjab         1762          1574      31    157\n",
              "10                    Telangana         1163           382      30    751\n",
              "11            Jammu and Kashmir          836           459       9    368\n",
              "12                    Karnataka          794           378      30    386\n",
              "13                      Haryana          675           376       9    290\n",
              "14                        Bihar          611           288       5    318\n",
              "15                       Kerala          505            16       4    485\n",
              "16                       Odisha          294           224       2     68\n",
              "17                   Chandigarh          169           143       2     24\n",
              "18                    Jharkhand          156           101       3     52\n",
              "19                      Tripura          135           133       0      2\n",
              "20                  Uttarakhand           67            20       1     46\n",
              "21                        Assam           62            26       2     34\n",
              "22                 Chhattisgarh           59            16       0     43\n",
              "23            Himachal Pradesh‡           53            13       3     37\n",
              "24                       Ladakh           42            25       0     17\n",
              "25  Andaman and Nicobar Islands           33             0       0     33\n",
              "26                    Meghalaya           13             2       1     10\n",
              "27                  Puducherry†           10             3       0      7\n",
              "28                          Goa            7             0       0      7\n",
              "29                      Manipur            2             0       0      2\n",
              "30      Dadra and Nagar Haveli*            1             1       0      0\n",
              "31            Arunachal Pradesh            1             0       0      1\n",
              "32                      Mizoram            1             0       0      1\n",
              "33                     Nagaland            1             0       0      1"
            ]
          },
          "metadata": {},
          "execution_count": 90
        }
      ]
    },
    {
      "cell_type": "code",
      "metadata": {
        "id": "jqx5Yfmf5nAj"
      },
      "source": [
        ""
      ],
      "execution_count": 89,
      "outputs": []
    },
    {
      "cell_type": "code",
      "metadata": {
        "id": "R43Mq6qQ5pIr"
      },
      "source": [
        ""
      ],
      "execution_count": null,
      "outputs": []
    }
  ]
}