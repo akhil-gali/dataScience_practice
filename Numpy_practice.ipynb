{
  "nbformat": 4,
  "nbformat_minor": 0,
  "metadata": {
    "colab": {
      "name": "Numpy_practice.ipynb",
      "provenance": [],
      "collapsed_sections": [],
      "authorship_tag": "ABX9TyMmAxzEYN3SQgxGrQjMN8ZS",
      "include_colab_link": true
    },
    "kernelspec": {
      "name": "python3",
      "display_name": "Python 3"
    },
    "language_info": {
      "name": "python"
    }
  },
  "cells": [
    {
      "cell_type": "markdown",
      "metadata": {
        "id": "view-in-github",
        "colab_type": "text"
      },
      "source": [
        "<a href=\"https://colab.research.google.com/github/akhil-gali/dataScience_practice/blob/main/Numpy_practice.ipynb\" target=\"_parent\"><img src=\"https://colab.research.google.com/assets/colab-badge.svg\" alt=\"Open In Colab\"/></a>"
      ]
    },
    {
      "cell_type": "code",
      "metadata": {
        "colab": {
          "base_uri": "https://localhost:8080/"
        },
        "id": "Ojem_9QvVrft",
        "outputId": "bc0a108f-59c9-410b-eea8-156fbd3a2e92"
      },
      "source": [
        "!pip install numpy"
      ],
      "execution_count": null,
      "outputs": [
        {
          "output_type": "stream",
          "name": "stdout",
          "text": [
            "Requirement already satisfied: numpy in /usr/local/lib/python3.7/dist-packages (1.19.5)\n"
          ]
        }
      ]
    },
    {
      "cell_type": "markdown",
      "metadata": {
        "id": "d2yQz3TKXh2z"
      },
      "source": [
        "#Create one dimensional Array in Numpy"
      ]
    },
    {
      "cell_type": "code",
      "metadata": {
        "id": "Byt83FDlV0KL"
      },
      "source": [
        "import numpy as np   #inporting numpy Library"
      ],
      "execution_count": null,
      "outputs": []
    },
    {
      "cell_type": "code",
      "metadata": {
        "colab": {
          "base_uri": "https://localhost:8080/"
        },
        "id": "LCvNRCnsWB--",
        "outputId": "b64e460d-794e-4980-b7a6-4edc9ec40d81"
      },
      "source": [
        "my_list = [1,2,3]\n",
        "n = np.array(my_list)\n",
        "n"
      ],
      "execution_count": null,
      "outputs": [
        {
          "output_type": "execute_result",
          "data": {
            "text/plain": [
              "array([1, 2, 3])"
            ]
          },
          "metadata": {},
          "execution_count": 4
        }
      ]
    },
    {
      "cell_type": "code",
      "metadata": {
        "colab": {
          "base_uri": "https://localhost:8080/"
        },
        "id": "qRK6zgtnXREy",
        "outputId": "abe408c6-1b3a-4c88-e17f-3cea8bbd0813"
      },
      "source": [
        "type(my_list)   # type method gives the type of given variable"
      ],
      "execution_count": null,
      "outputs": [
        {
          "output_type": "execute_result",
          "data": {
            "text/plain": [
              "list"
            ]
          },
          "metadata": {},
          "execution_count": 5
        }
      ]
    },
    {
      "cell_type": "code",
      "metadata": {
        "colab": {
          "base_uri": "https://localhost:8080/"
        },
        "id": "HGUMftq_W1eE",
        "outputId": "dc96c711-5781-4b76-bb89-a31a9f428556"
      },
      "source": [
        "type(n)    # type method gives the type of given variable"
      ],
      "execution_count": null,
      "outputs": [
        {
          "output_type": "execute_result",
          "data": {
            "text/plain": [
              "numpy.ndarray"
            ]
          },
          "metadata": {},
          "execution_count": 6
        }
      ]
    },
    {
      "cell_type": "markdown",
      "metadata": {
        "id": "Hjgg1K23X3qo"
      },
      "source": [
        "# Creating Multidimesional Array"
      ]
    },
    {
      "cell_type": "code",
      "metadata": {
        "colab": {
          "base_uri": "https://localhost:8080/"
        },
        "id": "4WTJc0bsXxyR",
        "outputId": "0e397f2e-b7e8-49e8-9891-3c34002f8acb"
      },
      "source": [
        "my_list2 = [[1,2,3],[4,5,6],[7,8,9]]\n",
        "md = np.array(my_list2)\n",
        "md"
      ],
      "execution_count": null,
      "outputs": [
        {
          "output_type": "execute_result",
          "data": {
            "text/plain": [
              "array([[1, 2, 3],\n",
              "       [4, 5, 6],\n",
              "       [7, 8, 9]])"
            ]
          },
          "metadata": {},
          "execution_count": 7
        }
      ]
    },
    {
      "cell_type": "code",
      "metadata": {
        "colab": {
          "base_uri": "https://localhost:8080/"
        },
        "id": "lPgUNhI7YUQH",
        "outputId": "a30b4740-41cd-465d-a4f4-2a045f2243af"
      },
      "source": [
        "print(md)"
      ],
      "execution_count": null,
      "outputs": [
        {
          "output_type": "stream",
          "name": "stdout",
          "text": [
            "[[1 2 3]\n",
            " [4 5 6]\n",
            " [7 8 9]]\n"
          ]
        }
      ]
    },
    {
      "cell_type": "code",
      "metadata": {
        "colab": {
          "base_uri": "https://localhost:8080/"
        },
        "id": "TONqgciCYXD0",
        "outputId": "d4eeb3ba-78fd-4275-cb19-dfde2f362268"
      },
      "source": [
        "type(md)  # type method gives the type of given variable"
      ],
      "execution_count": null,
      "outputs": [
        {
          "output_type": "execute_result",
          "data": {
            "text/plain": [
              "numpy.ndarray"
            ]
          },
          "metadata": {},
          "execution_count": 9
        }
      ]
    },
    {
      "cell_type": "code",
      "metadata": {
        "colab": {
          "base_uri": "https://localhost:8080/"
        },
        "id": "wXlylBV8YaQp",
        "outputId": "18fcba37-1e11-4500-df23-7a38b43159e2"
      },
      "source": [
        "md.shape # Shape method is used to return the shape of the array.."
      ],
      "execution_count": null,
      "outputs": [
        {
          "output_type": "execute_result",
          "data": {
            "text/plain": [
              "(3, 3)"
            ]
          },
          "metadata": {},
          "execution_count": 10
        }
      ]
    },
    {
      "cell_type": "markdown",
      "metadata": {
        "id": "wIbIQpfoajOJ"
      },
      "source": [
        "#Generating Evenly Spaced values within the Given Limit"
      ]
    },
    {
      "cell_type": "code",
      "metadata": {
        "colab": {
          "base_uri": "https://localhost:8080/"
        },
        "id": "3sHx3caWYjVZ",
        "outputId": "f257d5f5-63c7-4342-95af-1b2cdbc0e4d0"
      },
      "source": [
        "np.arange(0,10)  # gives array of numbers (int type) start from \"0\" till \"9\" excluding the last digit"
      ],
      "execution_count": null,
      "outputs": [
        {
          "output_type": "execute_result",
          "data": {
            "text/plain": [
              "array([0, 1, 2, 3, 4, 5, 6, 7, 8, 9])"
            ]
          },
          "metadata": {},
          "execution_count": 11
        }
      ]
    },
    {
      "cell_type": "code",
      "metadata": {
        "colab": {
          "base_uri": "https://localhost:8080/"
        },
        "id": "xhQIz9SoaGqi",
        "outputId": "93b83854-024f-4ba2-a621-a434b9115129"
      },
      "source": [
        "np.arange(20)  #if start number doesn't mention, Np will generate starting from "
      ],
      "execution_count": null,
      "outputs": [
        {
          "output_type": "execute_result",
          "data": {
            "text/plain": [
              "array([ 0,  1,  2,  3,  4,  5,  6,  7,  8,  9, 10, 11, 12, 13, 14, 15, 16,\n",
              "       17, 18, 19])"
            ]
          },
          "metadata": {},
          "execution_count": 12
        }
      ]
    },
    {
      "cell_type": "code",
      "metadata": {
        "colab": {
          "base_uri": "https://localhost:8080/"
        },
        "id": "f9ktfJUTabDX",
        "outputId": "392e4580-c8c3-4ea4-ea68-d1896ed37f1d"
      },
      "source": [
        "np.arange(0,20,3) #will generate numbers from \"0\" to \"20\" with interval of \"3\""
      ],
      "execution_count": null,
      "outputs": [
        {
          "output_type": "execute_result",
          "data": {
            "text/plain": [
              "array([ 0,  3,  6,  9, 12, 15, 18])"
            ]
          },
          "metadata": {},
          "execution_count": 13
        }
      ]
    },
    {
      "cell_type": "code",
      "metadata": {
        "colab": {
          "base_uri": "https://localhost:8080/"
        },
        "id": "7wiYHpmobM44",
        "outputId": "daed103e-f5e5-4f3f-b368-b7595cb9bf93"
      },
      "source": [
        "for i in range(1,11,2):\n",
        "  print(i)                    #printing the Number"
      ],
      "execution_count": null,
      "outputs": [
        {
          "output_type": "stream",
          "name": "stdout",
          "text": [
            "1\n",
            "3\n",
            "5\n",
            "7\n",
            "9\n"
          ]
        }
      ]
    },
    {
      "cell_type": "code",
      "metadata": {
        "id": "9gVOSYheb7E6",
        "colab": {
          "base_uri": "https://localhost:8080/"
        },
        "outputId": "817c79b9-f64e-4554-fb01-ed791110241b"
      },
      "source": [
        "for i in np.arange(1,12,2):\n",
        "  new_array = np.array(np.arange(i,12,2))\n",
        "  print(new_array)        #Printing the Array"
      ],
      "execution_count": null,
      "outputs": [
        {
          "output_type": "stream",
          "name": "stdout",
          "text": [
            "[ 1  3  5  7  9 11]\n",
            "[ 3  5  7  9 11]\n",
            "[ 5  7  9 11]\n",
            "[ 7  9 11]\n",
            "[ 9 11]\n",
            "[11]\n"
          ]
        }
      ]
    },
    {
      "cell_type": "code",
      "metadata": {
        "id": "BSTqI91AcIN6",
        "colab": {
          "base_uri": "https://localhost:8080/"
        },
        "outputId": "4ae7e51e-1bcc-4670-8213-6fb3b95a6976"
      },
      "source": [
        "zero_array = np.zeros((5,6))     #for writing Zero array and shape we use double braces like((5,6)) in the example\n",
        "print(zero_array)                #for 1 dimensional Array we can write like np.zeros(100) which will return 100 zeros "
      ],
      "execution_count": null,
      "outputs": [
        {
          "output_type": "stream",
          "name": "stdout",
          "text": [
            "[[0. 0. 0. 0. 0. 0.]\n",
            " [0. 0. 0. 0. 0. 0.]\n",
            " [0. 0. 0. 0. 0. 0.]\n",
            " [0. 0. 0. 0. 0. 0.]\n",
            " [0. 0. 0. 0. 0. 0.]]\n"
          ]
        }
      ]
    },
    {
      "cell_type": "code",
      "metadata": {
        "id": "XU0f2e780Z0p",
        "colab": {
          "base_uri": "https://localhost:8080/"
        },
        "outputId": "9943972e-d544-4efe-8ce2-c3ff43733701"
      },
      "source": [
        "zero_array.reshape(6,5)             #for reshaping no need of Double braces"
      ],
      "execution_count": null,
      "outputs": [
        {
          "output_type": "execute_result",
          "data": {
            "text/plain": [
              "array([[0., 0., 0., 0., 0.],\n",
              "       [0., 0., 0., 0., 0.],\n",
              "       [0., 0., 0., 0., 0.],\n",
              "       [0., 0., 0., 0., 0.],\n",
              "       [0., 0., 0., 0., 0.],\n",
              "       [0., 0., 0., 0., 0.]])"
            ]
          },
          "metadata": {},
          "execution_count": 17
        }
      ]
    },
    {
      "cell_type": "code",
      "metadata": {
        "colab": {
          "base_uri": "https://localhost:8080/"
        },
        "id": "XdNeLU3nc0q0",
        "outputId": "3b810fb4-f747-494c-f1c8-ba287bb85ab9"
      },
      "source": [
        "zero_array                #the reshape function doesn't change the actual number of rows and columns"
      ],
      "execution_count": null,
      "outputs": [
        {
          "output_type": "execute_result",
          "data": {
            "text/plain": [
              "array([[0., 0., 0., 0., 0., 0.],\n",
              "       [0., 0., 0., 0., 0., 0.],\n",
              "       [0., 0., 0., 0., 0., 0.],\n",
              "       [0., 0., 0., 0., 0., 0.],\n",
              "       [0., 0., 0., 0., 0., 0.]])"
            ]
          },
          "metadata": {},
          "execution_count": 18
        }
      ]
    },
    {
      "cell_type": "code",
      "metadata": {
        "colab": {
          "base_uri": "https://localhost:8080/"
        },
        "id": "0NG0DYzLc3I-",
        "outputId": "1f6ae7bd-5301-46b7-9a5f-d744aaad4781"
      },
      "source": [
        "ones_array = np.ones((4,8))    #same as zeros\n",
        "ones_array"
      ],
      "execution_count": null,
      "outputs": [
        {
          "output_type": "execute_result",
          "data": {
            "text/plain": [
              "array([[1., 1., 1., 1., 1., 1., 1., 1.],\n",
              "       [1., 1., 1., 1., 1., 1., 1., 1.],\n",
              "       [1., 1., 1., 1., 1., 1., 1., 1.],\n",
              "       [1., 1., 1., 1., 1., 1., 1., 1.]])"
            ]
          },
          "metadata": {},
          "execution_count": 19
        }
      ]
    },
    {
      "cell_type": "code",
      "metadata": {
        "colab": {
          "base_uri": "https://localhost:8080/"
        },
        "id": "46KtKiMxe6ef",
        "outputId": "9bdbe904-9160-4814-d06c-8e3b1dd0e304"
      },
      "source": [
        "ones_array.reshape(8,4)   #same as zeros"
      ],
      "execution_count": null,
      "outputs": [
        {
          "output_type": "execute_result",
          "data": {
            "text/plain": [
              "array([[1., 1., 1., 1.],\n",
              "       [1., 1., 1., 1.],\n",
              "       [1., 1., 1., 1.],\n",
              "       [1., 1., 1., 1.],\n",
              "       [1., 1., 1., 1.],\n",
              "       [1., 1., 1., 1.],\n",
              "       [1., 1., 1., 1.],\n",
              "       [1., 1., 1., 1.]])"
            ]
          },
          "metadata": {},
          "execution_count": 20
        }
      ]
    },
    {
      "cell_type": "code",
      "metadata": {
        "colab": {
          "base_uri": "https://localhost:8080/"
        },
        "id": "B2pJYq-7fCT_",
        "outputId": "ab754b98-4798-445d-eadd-4e32044c9775"
      },
      "source": [
        "ones_array            #columns and rows doesn't change as zeros function"
      ],
      "execution_count": null,
      "outputs": [
        {
          "output_type": "execute_result",
          "data": {
            "text/plain": [
              "array([[1., 1., 1., 1., 1., 1., 1., 1.],\n",
              "       [1., 1., 1., 1., 1., 1., 1., 1.],\n",
              "       [1., 1., 1., 1., 1., 1., 1., 1.],\n",
              "       [1., 1., 1., 1., 1., 1., 1., 1.]])"
            ]
          },
          "metadata": {},
          "execution_count": 21
        }
      ]
    },
    {
      "cell_type": "code",
      "metadata": {
        "colab": {
          "base_uri": "https://localhost:8080/"
        },
        "id": "2kRMbjfDfRoS",
        "outputId": "5ce5373e-6a74-406f-e9e0-8157b54bc7e6"
      },
      "source": [
        "identity_array = np.eye(10)   #will give \n",
        "identity_array"
      ],
      "execution_count": null,
      "outputs": [
        {
          "output_type": "execute_result",
          "data": {
            "text/plain": [
              "array([[1., 0., 0., 0., 0., 0., 0., 0., 0., 0.],\n",
              "       [0., 1., 0., 0., 0., 0., 0., 0., 0., 0.],\n",
              "       [0., 0., 1., 0., 0., 0., 0., 0., 0., 0.],\n",
              "       [0., 0., 0., 1., 0., 0., 0., 0., 0., 0.],\n",
              "       [0., 0., 0., 0., 1., 0., 0., 0., 0., 0.],\n",
              "       [0., 0., 0., 0., 0., 1., 0., 0., 0., 0.],\n",
              "       [0., 0., 0., 0., 0., 0., 1., 0., 0., 0.],\n",
              "       [0., 0., 0., 0., 0., 0., 0., 1., 0., 0.],\n",
              "       [0., 0., 0., 0., 0., 0., 0., 0., 1., 0.],\n",
              "       [0., 0., 0., 0., 0., 0., 0., 0., 0., 1.]])"
            ]
          },
          "metadata": {},
          "execution_count": 22
        }
      ]
    },
    {
      "cell_type": "code",
      "metadata": {
        "colab": {
          "base_uri": "https://localhost:8080/"
        },
        "id": "yTnZIDwjflHr",
        "outputId": "f0965099-4456-4ade-f207-3fd6ebba578a"
      },
      "source": [
        "O= np.linspace(0,50,8) #Linspace function returns 3rd parameter(6) evenly spaced float Values start from 1st parameter to 2nd parameter\n",
        "O                      # linspace includes first and last values."
      ],
      "execution_count": null,
      "outputs": [
        {
          "output_type": "execute_result",
          "data": {
            "text/plain": [
              "array([ 0.        ,  7.14285714, 14.28571429, 21.42857143, 28.57142857,\n",
              "       35.71428571, 42.85714286, 50.        ])"
            ]
          },
          "metadata": {},
          "execution_count": 23
        }
      ]
    },
    {
      "cell_type": "code",
      "metadata": {
        "colab": {
          "base_uri": "https://localhost:8080/"
        },
        "id": "plMapVZv1Fpp",
        "outputId": "c37cc4c6-22b1-4361-963e-72245094197c"
      },
      "source": [
        "len(O)"
      ],
      "execution_count": null,
      "outputs": [
        {
          "output_type": "execute_result",
          "data": {
            "text/plain": [
              "8"
            ]
          },
          "metadata": {},
          "execution_count": 24
        }
      ]
    },
    {
      "cell_type": "code",
      "metadata": {
        "colab": {
          "base_uri": "https://localhost:8080/"
        },
        "id": "_eUv-teP2LtE",
        "outputId": "d9d801f7-c247-4801-e707-aa739db29539"
      },
      "source": [
        "O.resize(4,2) #resize function will Change the shape of original array..Unlike reshape Function\n",
        "O"
      ],
      "execution_count": null,
      "outputs": [
        {
          "output_type": "execute_result",
          "data": {
            "text/plain": [
              "array([[ 0.        ,  7.14285714],\n",
              "       [14.28571429, 21.42857143],\n",
              "       [28.57142857, 35.71428571],\n",
              "       [42.85714286, 50.        ]])"
            ]
          },
          "metadata": {},
          "execution_count": 25
        }
      ]
    },
    {
      "cell_type": "code",
      "metadata": {
        "colab": {
          "base_uri": "https://localhost:8080/"
        },
        "id": "_iXyi3ip2Tjp",
        "outputId": "f16c7034-f66e-4216-8d5b-608f7af93a44"
      },
      "source": [
        "O"
      ],
      "execution_count": null,
      "outputs": [
        {
          "output_type": "execute_result",
          "data": {
            "text/plain": [
              "array([[ 0.        ,  7.14285714],\n",
              "       [14.28571429, 21.42857143],\n",
              "       [28.57142857, 35.71428571],\n",
              "       [42.85714286, 50.        ]])"
            ]
          },
          "metadata": {},
          "execution_count": 26
        }
      ]
    },
    {
      "cell_type": "markdown",
      "metadata": {
        "id": "-sMT5rUN4MLg"
      },
      "source": [
        "# Generating Random Values"
      ]
    },
    {
      "cell_type": "code",
      "metadata": {
        "colab": {
          "base_uri": "https://localhost:8080/"
        },
        "id": "NXmKkkOP3cJA",
        "outputId": "86a8936c-28e6-4a68-a37c-63781bf00146"
      },
      "source": [
        "rand_function =np.random.rand(5,5) #will generate random values in unifrom Distribution between [0,1] in given shape and generate new numbers for each time we run\n",
        "rand_function "
      ],
      "execution_count": null,
      "outputs": [
        {
          "output_type": "execute_result",
          "data": {
            "text/plain": [
              "array([[0.8556216 , 0.31331236, 0.80485968, 0.08234614, 0.36872211],\n",
              "       [0.89410209, 0.85960065, 0.85991465, 0.65659398, 0.01595787],\n",
              "       [0.98886877, 0.97060632, 0.37090144, 0.65250669, 0.65713584],\n",
              "       [0.04366382, 0.27287156, 0.54535772, 0.90096155, 0.96682051],\n",
              "       [0.3922643 , 0.31275421, 0.98576439, 0.30606995, 0.65010961]])"
            ]
          },
          "metadata": {},
          "execution_count": 31
        }
      ]
    },
    {
      "cell_type": "code",
      "metadata": {
        "colab": {
          "base_uri": "https://localhost:8080/"
        },
        "id": "twMmYb5N4zGu",
        "outputId": "b3cc4a1b-a71f-46ae-a2ec-a7b81af81ff2"
      },
      "source": [
        "a=np.random.randn(5,3) # will generate random values in Standard normal distribution\n",
        "a                      # it also generates new values every time we run"
      ],
      "execution_count": null,
      "outputs": [
        {
          "output_type": "execute_result",
          "data": {
            "text/plain": [
              "array([[ 0.24712523, -0.13480784,  0.14603167],\n",
              "       [-0.67192813,  1.22960785, -0.89500062],\n",
              "       [ 0.1713092 ,  0.51059885,  3.13798862],\n",
              "       [ 0.84976747, -0.75654664,  1.3155237 ],\n",
              "       [ 1.10388592,  0.40154017, -0.17770625]])"
            ]
          },
          "metadata": {},
          "execution_count": 34
        }
      ]
    },
    {
      "cell_type": "code",
      "metadata": {
        "colab": {
          "base_uri": "https://localhost:8080/"
        },
        "id": "lc9dDWZ7OYxP",
        "outputId": "370482b1-61ab-468a-8721-39d195fa3a00"
      },
      "source": [
        "#Generating 15 random numbers between 10 and 60\n",
        "randint_function=np.random.randint(6,25,15)  #generate 15 random numbers with repetion allowed and including lower limit excluding Higher limit\n",
        "randint_function"
      ],
      "execution_count": null,
      "outputs": [
        {
          "output_type": "execute_result",
          "data": {
            "text/plain": [
              "array([16, 13, 20, 20, 13, 14, 11,  7, 13, 11, 22, 19, 11, 22, 16])"
            ]
          },
          "metadata": {},
          "execution_count": 45
        }
      ]
    },
    {
      "cell_type": "code",
      "metadata": {
        "colab": {
          "base_uri": "https://localhost:8080/"
        },
        "id": "zzPjt2KVQvIq",
        "outputId": "84c17370-33d4-4451-d1c2-0c8fc8a12093"
      },
      "source": [
        "randint_function.reshape(5,3)"
      ],
      "execution_count": null,
      "outputs": [
        {
          "output_type": "execute_result",
          "data": {
            "text/plain": [
              "array([[16, 13, 20],\n",
              "       [20, 13, 14],\n",
              "       [11,  7, 13],\n",
              "       [11, 22, 19],\n",
              "       [11, 22, 16]])"
            ]
          },
          "metadata": {},
          "execution_count": 46
        }
      ]
    },
    {
      "cell_type": "code",
      "metadata": {
        "colab": {
          "base_uri": "https://localhost:8080/"
        },
        "id": "egT1sCInR8fc",
        "outputId": "607bcf68-1d0e-4d6f-8b53-513cd984fa55"
      },
      "source": [
        "randint_function_1 = np.random.randint(6,25,(5,3))  # we can directly define the shape as 3rd parameter\n",
        "randint_function_1"
      ],
      "execution_count": null,
      "outputs": [
        {
          "output_type": "execute_result",
          "data": {
            "text/plain": [
              "array([[17, 21, 19],\n",
              "       [ 7, 24, 20],\n",
              "       [22,  7, 15],\n",
              "       [ 8, 21, 16],\n",
              "       [12, 11,  8]])"
            ]
          },
          "metadata": {},
          "execution_count": 48
        }
      ]
    },
    {
      "cell_type": "markdown",
      "metadata": {
        "id": "HQr_YgodWA-r"
      },
      "source": [
        "# Indexing and Slicing"
      ]
    },
    {
      "cell_type": "code",
      "metadata": {
        "colab": {
          "base_uri": "https://localhost:8080/"
        },
        "id": "gxMgjCbRSKfm",
        "outputId": "743d1839-678e-4842-e856-c7873d71d62b"
      },
      "source": [
        "p = np.random.randint(0,15,8)\n",
        "p"
      ],
      "execution_count": null,
      "outputs": [
        {
          "output_type": "execute_result",
          "data": {
            "text/plain": [
              "array([ 9, 11,  9,  3,  7,  0,  9,  5])"
            ]
          },
          "metadata": {},
          "execution_count": 49
        }
      ]
    },
    {
      "cell_type": "code",
      "metadata": {
        "colab": {
          "base_uri": "https://localhost:8080/"
        },
        "id": "8mNYcqIkWSCC",
        "outputId": "59173e26-e1a3-4c3d-e377-fb0baee89b6a"
      },
      "source": [
        "p[0] #will return value at zero index"
      ],
      "execution_count": null,
      "outputs": [
        {
          "output_type": "execute_result",
          "data": {
            "text/plain": [
              "9"
            ]
          },
          "metadata": {},
          "execution_count": 50
        }
      ]
    },
    {
      "cell_type": "code",
      "metadata": {
        "colab": {
          "base_uri": "https://localhost:8080/"
        },
        "id": "OBopeWZwWZOc",
        "outputId": "19dbb94b-8c24-4937-ab58-7cb8a446bc1c"
      },
      "source": [
        "p[-3] # will return the value which is in third place from Last. negative indexing starts from -1,-2,-3,-4...."
      ],
      "execution_count": null,
      "outputs": [
        {
          "output_type": "execute_result",
          "data": {
            "text/plain": [
              "0"
            ]
          },
          "metadata": {},
          "execution_count": 51
        }
      ]
    },
    {
      "cell_type": "code",
      "metadata": {
        "colab": {
          "base_uri": "https://localhost:8080/"
        },
        "id": "0GUTVZsGWuIe",
        "outputId": "adc28c15-6b2b-4b4c-e784-22637c5bcafd"
      },
      "source": [
        "p[2:8] #will return set of values start from 2 index till 8 and doesnot include 8 index value"
      ],
      "execution_count": null,
      "outputs": [
        {
          "output_type": "execute_result",
          "data": {
            "text/plain": [
              "array([9, 3, 7, 0, 9, 5])"
            ]
          },
          "metadata": {},
          "execution_count": 53
        }
      ]
    },
    {
      "cell_type": "code",
      "metadata": {
        "colab": {
          "base_uri": "https://localhost:8080/"
        },
        "id": "q0oYp7OjW8QR",
        "outputId": "e9071a2a-6e97-4d5b-9ad0-3c0d3a4b5b27"
      },
      "source": [
        "p[1:-4] #slicing includes negative indexing and does not include value of last index va;ue"
      ],
      "execution_count": null,
      "outputs": [
        {
          "output_type": "execute_result",
          "data": {
            "text/plain": [
              "array([11,  9,  3])"
            ]
          },
          "metadata": {},
          "execution_count": 55
        }
      ]
    },
    {
      "cell_type": "code",
      "metadata": {
        "colab": {
          "base_uri": "https://localhost:8080/"
        },
        "id": "TvQn-QLIZlTe",
        "outputId": "25de4702-c44b-40f7-e875-ff971770e268"
      },
      "source": [
        "p[3:] #will return the array start from 3 rd index till last and includes last index value"
      ],
      "execution_count": null,
      "outputs": [
        {
          "output_type": "execute_result",
          "data": {
            "text/plain": [
              "array([3, 7, 0, 9, 5])"
            ]
          },
          "metadata": {},
          "execution_count": 67
        }
      ]
    },
    {
      "cell_type": "code",
      "metadata": {
        "colab": {
          "base_uri": "https://localhost:8080/"
        },
        "id": "_OMRY7elZytz",
        "outputId": "821b24ca-4101-4be1-8c6a-033abd0632fc"
      },
      "source": [
        "p[:-1] # will return the array start from 0 index till -1 index excluding -1 index value"
      ],
      "execution_count": null,
      "outputs": [
        {
          "output_type": "execute_result",
          "data": {
            "text/plain": [
              "array([ 9, 11,  9,  3,  7,  0,  9])"
            ]
          },
          "metadata": {},
          "execution_count": 69
        }
      ]
    },
    {
      "cell_type": "code",
      "metadata": {
        "colab": {
          "base_uri": "https://localhost:8080/"
        },
        "id": "kJUQd4oxaCjd",
        "outputId": "0fe45489-c5a5-46b9-990e-2fe2c263ad75"
      },
      "source": [
        "p[:] # will return the array fro 0 index till last index including last index value"
      ],
      "execution_count": null,
      "outputs": [
        {
          "output_type": "execute_result",
          "data": {
            "text/plain": [
              "array([ 9, 11,  9,  3,  7,  0,  9,  5])"
            ]
          },
          "metadata": {},
          "execution_count": 70
        }
      ]
    },
    {
      "cell_type": "code",
      "metadata": {
        "colab": {
          "base_uri": "https://localhost:8080/"
        },
        "id": "1Yd7e_sHXLeZ",
        "outputId": "8aa88f00-fd4d-4e63-c455-e2374966f5e8"
      },
      "source": [
        "var1 = np.random.randint(2,65,(5,5)) # return random integers betweeb 2(including) and 65(excluding) in (5,5) shape\n",
        "var1"
      ],
      "execution_count": null,
      "outputs": [
        {
          "output_type": "execute_result",
          "data": {
            "text/plain": [
              "array([[47, 26, 18,  2, 56],\n",
              "       [11, 42, 16,  4, 45],\n",
              "       [42, 64, 58, 23, 22],\n",
              "       [23, 11, 27,  8, 10],\n",
              "       [51, 40, 38, 62, 56]])"
            ]
          },
          "metadata": {},
          "execution_count": 76
        }
      ]
    },
    {
      "cell_type": "code",
      "metadata": {
        "colab": {
          "base_uri": "https://localhost:8080/"
        },
        "id": "0bI8KtekXeVL",
        "outputId": "e7af4426-f9c6-480b-f79b-0fe17adcbd4e"
      },
      "source": [
        "var1[2] #will return array at index 2"
      ],
      "execution_count": null,
      "outputs": [
        {
          "output_type": "execute_result",
          "data": {
            "text/plain": [
              "array([42, 64, 58, 23, 22])"
            ]
          },
          "metadata": {},
          "execution_count": 77
        }
      ]
    },
    {
      "cell_type": "code",
      "metadata": {
        "colab": {
          "base_uri": "https://localhost:8080/"
        },
        "id": "1HS7uZGLXtwv",
        "outputId": "85c414d5-f5ef-4bbb-de9e-ddd73a75d0fe"
      },
      "source": [
        "var1[2,2] #will return value at index 2 in row and 2 in column"
      ],
      "execution_count": null,
      "outputs": [
        {
          "output_type": "execute_result",
          "data": {
            "text/plain": [
              "58"
            ]
          },
          "metadata": {},
          "execution_count": 78
        }
      ]
    },
    {
      "cell_type": "code",
      "metadata": {
        "colab": {
          "base_uri": "https://localhost:8080/"
        },
        "id": "PkC8KTB5X9r1",
        "outputId": "1756cca1-284b-49b4-dce6-edf8a9aab766"
      },
      "source": [
        "var1[3,[0,-1,2]] #will return array which are of 3rd indexing row  0 index value and last index value and 2 index value"
      ],
      "execution_count": null,
      "outputs": [
        {
          "output_type": "execute_result",
          "data": {
            "text/plain": [
              "array([23, 10, 27])"
            ]
          },
          "metadata": {},
          "execution_count": 79
        }
      ]
    },
    {
      "cell_type": "markdown",
      "metadata": {
        "id": "02-_VyEIb3pU"
      },
      "source": [
        "                Use \":\" symbol for selecting range\n"
      ]
    },
    {
      "cell_type": "code",
      "metadata": {
        "colab": {
          "base_uri": "https://localhost:8080/"
        },
        "id": "E5MbO8Q7avhJ",
        "outputId": "df7c57ad-89f8-47f3-f5ee-aed27a0e4598"
      },
      "source": [
        "var1[3, 0:-2] #will slice the 3 rd indexed array and return array with values start from 0 index till-2 index and doesnot include -2 index value"
      ],
      "execution_count": null,
      "outputs": [
        {
          "output_type": "execute_result",
          "data": {
            "text/plain": [
              "array([23, 11, 27])"
            ]
          },
          "metadata": {},
          "execution_count": 80
        }
      ]
    },
    {
      "cell_type": "code",
      "metadata": {
        "colab": {
          "base_uri": "https://localhost:8080/"
        },
        "id": "PpNuxAejZNc_",
        "outputId": "0f8b7617-7b9b-4318-98e2-820ad6e03c07"
      },
      "source": [
        "var1[3, 0:3]  #will slice the 3 rd indexed array and return array with values start from 0 index till3 index and doesnot include 3 index value"
      ],
      "execution_count": null,
      "outputs": [
        {
          "output_type": "execute_result",
          "data": {
            "text/plain": [
              "array([23, 11, 27])"
            ]
          },
          "metadata": {},
          "execution_count": 81
        }
      ]
    },
    {
      "cell_type": "code",
      "metadata": {
        "colab": {
          "base_uri": "https://localhost:8080/"
        },
        "id": "qKZEE5kbass2",
        "outputId": "2f2c197c-c9cd-4847-e2e2-562ac7e1cad5"
      },
      "source": [
        "var1[2:]      #return all the rows from 2 till last "
      ],
      "execution_count": null,
      "outputs": [
        {
          "output_type": "execute_result",
          "data": {
            "text/plain": [
              "array([[42, 64, 58, 23, 22],\n",
              "       [23, 11, 27,  8, 10],\n",
              "       [51, 40, 38, 62, 56]])"
            ]
          },
          "metadata": {},
          "execution_count": 83
        }
      ]
    },
    {
      "cell_type": "code",
      "metadata": {
        "colab": {
          "base_uri": "https://localhost:8080/"
        },
        "id": "wxvtc70-cQAj",
        "outputId": "9368a802-4f4a-4331-8101-6c427a31ad8f"
      },
      "source": [
        "var1[1:,2:]     #return all the rows from 1 till last and 2 nd column till last"
      ],
      "execution_count": null,
      "outputs": [
        {
          "output_type": "execute_result",
          "data": {
            "text/plain": [
              "array([[16,  4, 45],\n",
              "       [58, 23, 22],\n",
              "       [27,  8, 10],\n",
              "       [38, 62, 56]])"
            ]
          },
          "metadata": {},
          "execution_count": 85
        }
      ]
    },
    {
      "cell_type": "code",
      "metadata": {
        "id": "rHe4pk08ckG7"
      },
      "source": [
        ""
      ],
      "execution_count": null,
      "outputs": []
    }
  ]
}